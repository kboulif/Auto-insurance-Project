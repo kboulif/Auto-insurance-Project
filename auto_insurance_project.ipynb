{
 "cells": [
  {
   "cell_type": "markdown",
   "metadata": {
    "id": "_fUK3lBfBZIE"
   },
   "source": [
    "# <font color='red'> Auto-insurance project  </font> "
   ]
  },
  {
   "cell_type": "markdown",
   "metadata": {
    "id": "Y2J4dyotKYxO"
   },
   "source": [
    "## Data Collection and Problem Statement"
   ]
  },
  {
   "cell_type": "code",
   "execution_count": 46,
   "metadata": {
    "id": "ELaI8F0PBZIR"
   },
   "outputs": [],
   "source": [
    "# install some librairies \n",
    "#pip install xgboost"
   ]
  },
  {
   "cell_type": "code",
   "execution_count": 47,
   "metadata": {
    "id": "Pq1fRYMuKYxV"
   },
   "outputs": [],
   "source": [
    "# importing packages\n",
    "import numpy as np\n",
    "import pandas as pd\n",
    "import matplotlib.pyplot as plt \n",
    "import seaborn as sns\n",
    "\n",
    "# Import required libraries for machine learning classifiers\n",
    "from sklearn.linear_model import LogisticRegression\n",
    "from sklearn.svm import LinearSVC\n",
    "from sklearn.tree import DecisionTreeClassifier\n",
    "from sklearn.ensemble import RandomForestClassifier\n",
    "from sklearn.naive_bayes import GaussianNB\n",
    "from sklearn.model_selection import KFold\n",
    "from sklearn.svm import SVC\n",
    "from sklearn.ensemble import AdaBoostClassifier\n",
    "from sklearn.model_selection import GridSearchCV \n",
    "from sklearn.ensemble import AdaBoostClassifier\n",
    "from sklearn.decomposition import PCA\n",
    "from sklearn.preprocessing import StandardScaler\n",
    "from sklearn.linear_model import LinearRegression\n",
    "from sklearn.discriminant_analysis import QuadraticDiscriminantAnalysis\n",
    "import xgboost as xgb\n",
    "\n",
    "# Import required libraries for performance metrics\n",
    "from sklearn.metrics import make_scorer\n",
    "from sklearn.metrics import accuracy_score\n",
    "from sklearn.metrics import precision_score\n",
    "from sklearn.metrics import recall_score\n",
    "from sklearn.metrics import confusion_matrix\n",
    "from sklearn.metrics import f1_score\n",
    "from sklearn.model_selection import cross_validate\n",
    "from sklearn.metrics import classification_report\n",
    "\n",
    "\n",
    "# Import required libraries for preprocessing\n",
    "from sklearn.compose import ColumnTransformer\n",
    "from sklearn.pipeline import Pipeline\n",
    "from sklearn.impute import SimpleImputer\n",
    "from sklearn.preprocessing import OneHotEncoder\n",
    "from sklearn.model_selection import train_test_split\n",
    "\n",
    "# Import required libraries for machine learning classifiers for imbalanced learn\n",
    "from imblearn.ensemble import BalancedRandomForestClassifier "
   ]
  },
  {
   "cell_type": "code",
   "execution_count": 48,
   "metadata": {
    "id": "Vxnj_xebKYxX"
   },
   "outputs": [],
   "source": [
    "# reading data\n",
    "df_train=pd.read_csv('train_auto.csv')"
   ]
  },
  {
   "cell_type": "code",
   "execution_count": 49,
   "metadata": {
    "colab": {
     "base_uri": "https://localhost:8080/"
    },
    "id": "T09tAUjtKYxr",
    "outputId": "e6c28599-3112-47ea-d469-55e5f1bc3578"
   },
   "outputs": [
    {
     "data": {
      "text/plain": [
       "(8161, 26)"
      ]
     },
     "execution_count": 49,
     "metadata": {},
     "output_type": "execute_result"
    }
   ],
   "source": [
    "# shape of data\n",
    "df_train.shape"
   ]
  },
  {
   "cell_type": "code",
   "execution_count": 50,
   "metadata": {
    "colab": {
     "base_uri": "https://localhost:8080/",
     "height": 465
    },
    "id": "bDBCz5zvKYxY",
    "outputId": "de6b8455-1188-4a60-d445-d2cdf25621ac"
   },
   "outputs": [
    {
     "data": {
      "text/html": [
       "<div>\n",
       "<style scoped>\n",
       "    .dataframe tbody tr th:only-of-type {\n",
       "        vertical-align: middle;\n",
       "    }\n",
       "\n",
       "    .dataframe tbody tr th {\n",
       "        vertical-align: top;\n",
       "    }\n",
       "\n",
       "    .dataframe thead th {\n",
       "        text-align: right;\n",
       "    }\n",
       "</style>\n",
       "<table border=\"1\" class=\"dataframe\">\n",
       "  <thead>\n",
       "    <tr style=\"text-align: right;\">\n",
       "      <th></th>\n",
       "      <th>INDEX</th>\n",
       "      <th>TARGET_FLAG</th>\n",
       "      <th>TARGET_AMT</th>\n",
       "      <th>KIDSDRIV</th>\n",
       "      <th>AGE</th>\n",
       "      <th>HOMEKIDS</th>\n",
       "      <th>YOJ</th>\n",
       "      <th>INCOME</th>\n",
       "      <th>PARENT1</th>\n",
       "      <th>HOME_VAL</th>\n",
       "      <th>MSTATUS</th>\n",
       "      <th>SEX</th>\n",
       "      <th>EDUCATION</th>\n",
       "      <th>JOB</th>\n",
       "      <th>TRAVTIME</th>\n",
       "      <th>CAR_USE</th>\n",
       "      <th>BLUEBOOK</th>\n",
       "      <th>TIF</th>\n",
       "      <th>CAR_TYPE</th>\n",
       "      <th>RED_CAR</th>\n",
       "      <th>OLDCLAIM</th>\n",
       "      <th>CLM_FREQ</th>\n",
       "      <th>REVOKED</th>\n",
       "      <th>MVR_PTS</th>\n",
       "      <th>CAR_AGE</th>\n",
       "      <th>URBANICITY</th>\n",
       "    </tr>\n",
       "  </thead>\n",
       "  <tbody>\n",
       "    <tr>\n",
       "      <th>0</th>\n",
       "      <td>1</td>\n",
       "      <td>0</td>\n",
       "      <td>0.0</td>\n",
       "      <td>0</td>\n",
       "      <td>60.0</td>\n",
       "      <td>0</td>\n",
       "      <td>11.0</td>\n",
       "      <td>$67,349</td>\n",
       "      <td>No</td>\n",
       "      <td>$0</td>\n",
       "      <td>z_No</td>\n",
       "      <td>M</td>\n",
       "      <td>PhD</td>\n",
       "      <td>Professional</td>\n",
       "      <td>14</td>\n",
       "      <td>Private</td>\n",
       "      <td>$14,230</td>\n",
       "      <td>11</td>\n",
       "      <td>Minivan</td>\n",
       "      <td>yes</td>\n",
       "      <td>$4,461</td>\n",
       "      <td>2</td>\n",
       "      <td>No</td>\n",
       "      <td>3</td>\n",
       "      <td>18.0</td>\n",
       "      <td>Highly Urban/ Urban</td>\n",
       "    </tr>\n",
       "    <tr>\n",
       "      <th>1</th>\n",
       "      <td>2</td>\n",
       "      <td>0</td>\n",
       "      <td>0.0</td>\n",
       "      <td>0</td>\n",
       "      <td>43.0</td>\n",
       "      <td>0</td>\n",
       "      <td>11.0</td>\n",
       "      <td>$91,449</td>\n",
       "      <td>No</td>\n",
       "      <td>$257,252</td>\n",
       "      <td>z_No</td>\n",
       "      <td>M</td>\n",
       "      <td>z_High School</td>\n",
       "      <td>z_Blue Collar</td>\n",
       "      <td>22</td>\n",
       "      <td>Commercial</td>\n",
       "      <td>$14,940</td>\n",
       "      <td>1</td>\n",
       "      <td>Minivan</td>\n",
       "      <td>yes</td>\n",
       "      <td>$0</td>\n",
       "      <td>0</td>\n",
       "      <td>No</td>\n",
       "      <td>0</td>\n",
       "      <td>1.0</td>\n",
       "      <td>Highly Urban/ Urban</td>\n",
       "    </tr>\n",
       "    <tr>\n",
       "      <th>2</th>\n",
       "      <td>4</td>\n",
       "      <td>0</td>\n",
       "      <td>0.0</td>\n",
       "      <td>0</td>\n",
       "      <td>35.0</td>\n",
       "      <td>1</td>\n",
       "      <td>10.0</td>\n",
       "      <td>$16,039</td>\n",
       "      <td>No</td>\n",
       "      <td>$124,191</td>\n",
       "      <td>Yes</td>\n",
       "      <td>z_F</td>\n",
       "      <td>z_High School</td>\n",
       "      <td>Clerical</td>\n",
       "      <td>5</td>\n",
       "      <td>Private</td>\n",
       "      <td>$4,010</td>\n",
       "      <td>4</td>\n",
       "      <td>z_SUV</td>\n",
       "      <td>no</td>\n",
       "      <td>$38,690</td>\n",
       "      <td>2</td>\n",
       "      <td>No</td>\n",
       "      <td>3</td>\n",
       "      <td>10.0</td>\n",
       "      <td>Highly Urban/ Urban</td>\n",
       "    </tr>\n",
       "    <tr>\n",
       "      <th>3</th>\n",
       "      <td>5</td>\n",
       "      <td>0</td>\n",
       "      <td>0.0</td>\n",
       "      <td>0</td>\n",
       "      <td>51.0</td>\n",
       "      <td>0</td>\n",
       "      <td>14.0</td>\n",
       "      <td>NaN</td>\n",
       "      <td>No</td>\n",
       "      <td>$306,251</td>\n",
       "      <td>Yes</td>\n",
       "      <td>M</td>\n",
       "      <td>&lt;High School</td>\n",
       "      <td>z_Blue Collar</td>\n",
       "      <td>32</td>\n",
       "      <td>Private</td>\n",
       "      <td>$15,440</td>\n",
       "      <td>7</td>\n",
       "      <td>Minivan</td>\n",
       "      <td>yes</td>\n",
       "      <td>$0</td>\n",
       "      <td>0</td>\n",
       "      <td>No</td>\n",
       "      <td>0</td>\n",
       "      <td>6.0</td>\n",
       "      <td>Highly Urban/ Urban</td>\n",
       "    </tr>\n",
       "    <tr>\n",
       "      <th>4</th>\n",
       "      <td>6</td>\n",
       "      <td>0</td>\n",
       "      <td>0.0</td>\n",
       "      <td>0</td>\n",
       "      <td>50.0</td>\n",
       "      <td>0</td>\n",
       "      <td>NaN</td>\n",
       "      <td>$114,986</td>\n",
       "      <td>No</td>\n",
       "      <td>$243,925</td>\n",
       "      <td>Yes</td>\n",
       "      <td>z_F</td>\n",
       "      <td>PhD</td>\n",
       "      <td>Doctor</td>\n",
       "      <td>36</td>\n",
       "      <td>Private</td>\n",
       "      <td>$18,000</td>\n",
       "      <td>1</td>\n",
       "      <td>z_SUV</td>\n",
       "      <td>no</td>\n",
       "      <td>$19,217</td>\n",
       "      <td>2</td>\n",
       "      <td>Yes</td>\n",
       "      <td>3</td>\n",
       "      <td>17.0</td>\n",
       "      <td>Highly Urban/ Urban</td>\n",
       "    </tr>\n",
       "    <tr>\n",
       "      <th>5</th>\n",
       "      <td>7</td>\n",
       "      <td>1</td>\n",
       "      <td>2946.0</td>\n",
       "      <td>0</td>\n",
       "      <td>34.0</td>\n",
       "      <td>1</td>\n",
       "      <td>12.0</td>\n",
       "      <td>$125,301</td>\n",
       "      <td>Yes</td>\n",
       "      <td>$0</td>\n",
       "      <td>z_No</td>\n",
       "      <td>z_F</td>\n",
       "      <td>Bachelors</td>\n",
       "      <td>z_Blue Collar</td>\n",
       "      <td>46</td>\n",
       "      <td>Commercial</td>\n",
       "      <td>$17,430</td>\n",
       "      <td>1</td>\n",
       "      <td>Sports Car</td>\n",
       "      <td>no</td>\n",
       "      <td>$0</td>\n",
       "      <td>0</td>\n",
       "      <td>No</td>\n",
       "      <td>0</td>\n",
       "      <td>7.0</td>\n",
       "      <td>Highly Urban/ Urban</td>\n",
       "    </tr>\n",
       "  </tbody>\n",
       "</table>\n",
       "</div>"
      ],
      "text/plain": [
       "   INDEX  TARGET_FLAG  TARGET_AMT  KIDSDRIV   AGE  HOMEKIDS   YOJ     INCOME  \\\n",
       "0      1            0         0.0         0  60.0         0  11.0   $67,349    \n",
       "1      2            0         0.0         0  43.0         0  11.0   $91,449    \n",
       "2      4            0         0.0         0  35.0         1  10.0   $16,039    \n",
       "3      5            0         0.0         0  51.0         0  14.0        NaN   \n",
       "4      6            0         0.0         0  50.0         0   NaN  $114,986    \n",
       "5      7            1      2946.0         0  34.0         1  12.0  $125,301    \n",
       "\n",
       "  PARENT1   HOME_VAL MSTATUS  SEX      EDUCATION            JOB  TRAVTIME  \\\n",
       "0      No        $0     z_No    M            PhD   Professional        14   \n",
       "1      No  $257,252     z_No    M  z_High School  z_Blue Collar        22   \n",
       "2      No  $124,191      Yes  z_F  z_High School       Clerical         5   \n",
       "3      No  $306,251      Yes    M   <High School  z_Blue Collar        32   \n",
       "4      No  $243,925      Yes  z_F            PhD         Doctor        36   \n",
       "5     Yes        $0     z_No  z_F      Bachelors  z_Blue Collar        46   \n",
       "\n",
       "      CAR_USE  BLUEBOOK  TIF    CAR_TYPE RED_CAR  OLDCLAIM  CLM_FREQ REVOKED  \\\n",
       "0     Private  $14,230    11     Minivan     yes   $4,461          2      No   \n",
       "1  Commercial  $14,940     1     Minivan     yes       $0          0      No   \n",
       "2     Private   $4,010     4       z_SUV      no  $38,690          2      No   \n",
       "3     Private  $15,440     7     Minivan     yes       $0          0      No   \n",
       "4     Private  $18,000     1       z_SUV      no  $19,217          2     Yes   \n",
       "5  Commercial  $17,430     1  Sports Car      no       $0          0      No   \n",
       "\n",
       "   MVR_PTS  CAR_AGE           URBANICITY  \n",
       "0        3     18.0  Highly Urban/ Urban  \n",
       "1        0      1.0  Highly Urban/ Urban  \n",
       "2        3     10.0  Highly Urban/ Urban  \n",
       "3        0      6.0  Highly Urban/ Urban  \n",
       "4        3     17.0  Highly Urban/ Urban  \n",
       "5        0      7.0  Highly Urban/ Urban  "
      ]
     },
     "execution_count": 50,
     "metadata": {},
     "output_type": "execute_result"
    }
   ],
   "source": [
    "# look at a few rows of the dataframe \n",
    "pd.set_option('display.max_columns', None)\n",
    "df_train.head(6)"
   ]
  },
  {
   "cell_type": "markdown",
   "metadata": {
    "id": "sOHLXtNEBZIc"
   },
   "source": [
    "### <font color='green'> Problem Statement : </font> \n",
    "In this project, we will explore and analyze and model a data that countains about 8000 rows. \n",
    "The target variable is 'TARGET_FLAG' which is a categorical variable that has two possible values '0' or '1'. '1' Means that \n",
    "the person was in a car crash, and '0' means that the person was not in a car crash. \n",
    "This is a classification problem that aims to predict if a person will crash its car or not. "
   ]
  },
  {
   "cell_type": "markdown",
   "metadata": {
    "id": "GhhwrjGBBZId"
   },
   "source": [
    "## Exploratory Data Analysis"
   ]
  },
  {
   "cell_type": "code",
   "execution_count": 51,
   "metadata": {
    "id": "YkeUP1KmKYxa"
   },
   "outputs": [],
   "source": [
    "# Remove duplicates if any\n",
    "df_train = df_train.drop_duplicates()\n",
    "\n",
    "# Shuffle the dataframe\n",
    "df_train = df_train.sample(frac = 1)"
   ]
  },
  {
   "cell_type": "code",
   "execution_count": 52,
   "metadata": {
    "id": "jILFwCufKYxk"
   },
   "outputs": [],
   "source": [
    "# drop columns INDEX and TARGET_AMT \n",
    "df_train=df_train.drop(['INDEX'],axis=1)  #The variable INDEX is an identification variable, we will delete it. \n",
    "df_train=df_train.drop(['TARGET_AMT'],axis=1) # The variable TARGET_AMT is a second target value, highly correlated to \n",
    "                                               #TARGET_FLAG, we will drop it. "
   ]
  },
  {
   "cell_type": "code",
   "execution_count": 53,
   "metadata": {
    "colab": {
     "base_uri": "https://localhost:8080/"
    },
    "id": "Dk6-TkInKYxb",
    "outputId": "ff100ab8-2283-4710-a68b-9389c0f1d711"
   },
   "outputs": [
    {
     "data": {
      "text/plain": [
       "0    6008\n",
       "1    2153\n",
       "Name: TARGET_FLAG, dtype: int64"
      ]
     },
     "execution_count": 53,
     "metadata": {},
     "output_type": "execute_result"
    }
   ],
   "source": [
    "# check if data is balanced\n",
    "df_train['TARGET_FLAG'].value_counts()"
   ]
  },
  {
   "cell_type": "code",
   "execution_count": 54,
   "metadata": {
    "colab": {
     "base_uri": "https://localhost:8080/",
     "height": 335
    },
    "id": "wDW5RquDKYxd",
    "outputId": "b53b6d00-0bc6-45d0-d166-48259805b1f7"
   },
   "outputs": [
    {
     "data": {
      "text/plain": [
       "(array([6008.,    0.,    0.,    0.,    0.,    0.,    0.,    0.,    0.,\n",
       "        2153.]),\n",
       " array([0. , 0.1, 0.2, 0.3, 0.4, 0.5, 0.6, 0.7, 0.8, 0.9, 1. ]),\n",
       " <a list of 10 Patch objects>)"
      ]
     },
     "execution_count": 54,
     "metadata": {},
     "output_type": "execute_result"
    },
    {
     "data": {
      "image/png": "[encoded data removed]",
      "text/plain": [
       "<Figure size 432x288 with 1 Axes>"
      ]
     },
     "metadata": {
      "needs_background": "light"
     },
     "output_type": "display_data"
    }
   ],
   "source": [
    "plt.hist(df_train['TARGET_FLAG'])"
   ]
  },
  {
   "cell_type": "markdown",
   "metadata": {
    "id": "x6gGSF0KBZIj"
   },
   "source": [
    "The data is imbalanced."
   ]
  },
  {
   "cell_type": "code",
   "execution_count": 55,
   "metadata": {
    "colab": {
     "base_uri": "https://localhost:8080/",
     "height": 300
    },
    "id": "DkJvLM_CKYxe",
    "outputId": "7a8a8a9f-2f9c-4e40-f068-50a52e6d8c90"
   },
   "outputs": [
    {
     "data": {
      "text/html": [
       "<div>\n",
       "<style scoped>\n",
       "    .dataframe tbody tr th:only-of-type {\n",
       "        vertical-align: middle;\n",
       "    }\n",
       "\n",
       "    .dataframe tbody tr th {\n",
       "        vertical-align: top;\n",
       "    }\n",
       "\n",
       "    .dataframe thead th {\n",
       "        text-align: right;\n",
       "    }\n",
       "</style>\n",
       "<table border=\"1\" class=\"dataframe\">\n",
       "  <thead>\n",
       "    <tr style=\"text-align: right;\">\n",
       "      <th></th>\n",
       "      <th>TARGET_FLAG</th>\n",
       "      <th>KIDSDRIV</th>\n",
       "      <th>AGE</th>\n",
       "      <th>HOMEKIDS</th>\n",
       "      <th>YOJ</th>\n",
       "      <th>TRAVTIME</th>\n",
       "      <th>TIF</th>\n",
       "      <th>CLM_FREQ</th>\n",
       "      <th>MVR_PTS</th>\n",
       "      <th>CAR_AGE</th>\n",
       "    </tr>\n",
       "  </thead>\n",
       "  <tbody>\n",
       "    <tr>\n",
       "      <th>count</th>\n",
       "      <td>8161.000000</td>\n",
       "      <td>8161.000000</td>\n",
       "      <td>8155.000000</td>\n",
       "      <td>8161.000000</td>\n",
       "      <td>7707.000000</td>\n",
       "      <td>8161.000000</td>\n",
       "      <td>8161.000000</td>\n",
       "      <td>8161.000000</td>\n",
       "      <td>8161.000000</td>\n",
       "      <td>7651.000000</td>\n",
       "    </tr>\n",
       "    <tr>\n",
       "      <th>mean</th>\n",
       "      <td>0.263816</td>\n",
       "      <td>0.171057</td>\n",
       "      <td>44.790313</td>\n",
       "      <td>0.721235</td>\n",
       "      <td>10.499286</td>\n",
       "      <td>33.485725</td>\n",
       "      <td>5.351305</td>\n",
       "      <td>0.798554</td>\n",
       "      <td>1.695503</td>\n",
       "      <td>8.328323</td>\n",
       "    </tr>\n",
       "    <tr>\n",
       "      <th>std</th>\n",
       "      <td>0.440728</td>\n",
       "      <td>0.511534</td>\n",
       "      <td>8.627589</td>\n",
       "      <td>1.116323</td>\n",
       "      <td>4.092474</td>\n",
       "      <td>15.908333</td>\n",
       "      <td>4.146635</td>\n",
       "      <td>1.158453</td>\n",
       "      <td>2.147112</td>\n",
       "      <td>5.700742</td>\n",
       "    </tr>\n",
       "    <tr>\n",
       "      <th>min</th>\n",
       "      <td>0.000000</td>\n",
       "      <td>0.000000</td>\n",
       "      <td>16.000000</td>\n",
       "      <td>0.000000</td>\n",
       "      <td>0.000000</td>\n",
       "      <td>5.000000</td>\n",
       "      <td>1.000000</td>\n",
       "      <td>0.000000</td>\n",
       "      <td>0.000000</td>\n",
       "      <td>-3.000000</td>\n",
       "    </tr>\n",
       "    <tr>\n",
       "      <th>25%</th>\n",
       "      <td>0.000000</td>\n",
       "      <td>0.000000</td>\n",
       "      <td>39.000000</td>\n",
       "      <td>0.000000</td>\n",
       "      <td>9.000000</td>\n",
       "      <td>22.000000</td>\n",
       "      <td>1.000000</td>\n",
       "      <td>0.000000</td>\n",
       "      <td>0.000000</td>\n",
       "      <td>1.000000</td>\n",
       "    </tr>\n",
       "    <tr>\n",
       "      <th>50%</th>\n",
       "      <td>0.000000</td>\n",
       "      <td>0.000000</td>\n",
       "      <td>45.000000</td>\n",
       "      <td>0.000000</td>\n",
       "      <td>11.000000</td>\n",
       "      <td>33.000000</td>\n",
       "      <td>4.000000</td>\n",
       "      <td>0.000000</td>\n",
       "      <td>1.000000</td>\n",
       "      <td>8.000000</td>\n",
       "    </tr>\n",
       "    <tr>\n",
       "      <th>75%</th>\n",
       "      <td>1.000000</td>\n",
       "      <td>0.000000</td>\n",
       "      <td>51.000000</td>\n",
       "      <td>1.000000</td>\n",
       "      <td>13.000000</td>\n",
       "      <td>44.000000</td>\n",
       "      <td>7.000000</td>\n",
       "      <td>2.000000</td>\n",
       "      <td>3.000000</td>\n",
       "      <td>12.000000</td>\n",
       "    </tr>\n",
       "    <tr>\n",
       "      <th>max</th>\n",
       "      <td>1.000000</td>\n",
       "      <td>4.000000</td>\n",
       "      <td>81.000000</td>\n",
       "      <td>5.000000</td>\n",
       "      <td>23.000000</td>\n",
       "      <td>142.000000</td>\n",
       "      <td>25.000000</td>\n",
       "      <td>5.000000</td>\n",
       "      <td>13.000000</td>\n",
       "      <td>28.000000</td>\n",
       "    </tr>\n",
       "  </tbody>\n",
       "</table>\n",
       "</div>"
      ],
      "text/plain": [
       "       TARGET_FLAG     KIDSDRIV          AGE     HOMEKIDS          YOJ  \\\n",
       "count  8161.000000  8161.000000  8155.000000  8161.000000  7707.000000   \n",
       "mean      0.263816     0.171057    44.790313     0.721235    10.499286   \n",
       "std       0.440728     0.511534     8.627589     1.116323     4.092474   \n",
       "min       0.000000     0.000000    16.000000     0.000000     0.000000   \n",
       "25%       0.000000     0.000000    39.000000     0.000000     9.000000   \n",
       "50%       0.000000     0.000000    45.000000     0.000000    11.000000   \n",
       "75%       1.000000     0.000000    51.000000     1.000000    13.000000   \n",
       "max       1.000000     4.000000    81.000000     5.000000    23.000000   \n",
       "\n",
       "          TRAVTIME          TIF     CLM_FREQ      MVR_PTS      CAR_AGE  \n",
       "count  8161.000000  8161.000000  8161.000000  8161.000000  7651.000000  \n",
       "mean     33.485725     5.351305     0.798554     1.695503     8.328323  \n",
       "std      15.908333     4.146635     1.158453     2.147112     5.700742  \n",
       "min       5.000000     1.000000     0.000000     0.000000    -3.000000  \n",
       "25%      22.000000     1.000000     0.000000     0.000000     1.000000  \n",
       "50%      33.000000     4.000000     0.000000     1.000000     8.000000  \n",
       "75%      44.000000     7.000000     2.000000     3.000000    12.000000  \n",
       "max     142.000000    25.000000     5.000000    13.000000    28.000000  "
      ]
     },
     "execution_count": 55,
     "metadata": {},
     "output_type": "execute_result"
    }
   ],
   "source": [
    "# summary statistics of quantitative variables\n",
    "df_train.describe()"
   ]
  },
  {
   "cell_type": "code",
   "execution_count": 56,
   "metadata": {
    "colab": {
     "base_uri": "https://localhost:8080/"
    },
    "id": "0f2isz0AKYxg",
    "outputId": "4092f9b7-8e22-4bea-ff0e-5b5c1fb2428c"
   },
   "outputs": [
    {
     "name": "stdout",
     "output_type": "stream",
     "text": [
      "<class 'pandas.core.frame.DataFrame'>\n",
      "Int64Index: 8161 entries, 6253 to 5392\n",
      "Data columns (total 24 columns):\n",
      " #   Column       Non-Null Count  Dtype  \n",
      "---  ------       --------------  -----  \n",
      " 0   TARGET_FLAG  8161 non-null   int64  \n",
      " 1   KIDSDRIV     8161 non-null   int64  \n",
      " 2   AGE          8155 non-null   float64\n",
      " 3   HOMEKIDS     8161 non-null   int64  \n",
      " 4   YOJ          7707 non-null   float64\n",
      " 5   INCOME       7716 non-null   object \n",
      " 6   PARENT1      8161 non-null   object \n",
      " 7   HOME_VAL     7697 non-null   object \n",
      " 8   MSTATUS      8161 non-null   object \n",
      " 9   SEX          8161 non-null   object \n",
      " 10  EDUCATION    8161 non-null   object \n",
      " 11  JOB          7635 non-null   object \n",
      " 12  TRAVTIME     8161 non-null   int64  \n",
      " 13  CAR_USE      8161 non-null   object \n",
      " 14  BLUEBOOK     8161 non-null   object \n",
      " 15  TIF          8161 non-null   int64  \n",
      " 16  CAR_TYPE     8161 non-null   object \n",
      " 17  RED_CAR      8161 non-null   object \n",
      " 18  OLDCLAIM     8161 non-null   object \n",
      " 19  CLM_FREQ     8161 non-null   int64  \n",
      " 20  REVOKED      8161 non-null   object \n",
      " 21  MVR_PTS      8161 non-null   int64  \n",
      " 22  CAR_AGE      7651 non-null   float64\n",
      " 23  URBANICITY   8161 non-null   object \n",
      "dtypes: float64(3), int64(7), object(14)\n",
      "memory usage: 1.6+ MB\n"
     ]
    }
   ],
   "source": [
    "# Check for data type of columns\n",
    "df_train.info()"
   ]
  },
  {
   "cell_type": "markdown",
   "metadata": {
    "id": "71cYAEWYKYxj"
   },
   "source": [
    "There are 8161 instances and 26 variables in the dataset. The variables 'AGE', 'YOJ', 'INCOME', 'HOME_VAL', 'JOB' and 'CAR_AGE' have **missing values**. We will fix this in **cleaning phase**. \n",
    "\n",
    "The attributes 'AGE', 'YOJ', 'CAR_AGE' are numerical. \n",
    "The attributes 'INCOME', 'HOME_VAL', 'BLUEBOOK' and 'OLDCLAIM' are objects. **They should be converted to numerical**.\n",
    "\n",
    "Let's now look at the types of the remaining attributes. "
   ]
  },
  {
   "cell_type": "code",
   "execution_count": 57,
   "metadata": {
    "id": "89Gi_udZKYxk"
   },
   "outputs": [],
   "source": [
    "# categorical columns\n",
    "columns_cat=['PARENT1', 'MSTATUS', 'SEX', 'EDUCATION', 'JOB', 'CAR_USE', 'CAR_TYPE', 'RED_CAR','REVOKED', 'URBANICITY']"
   ]
  },
  {
   "cell_type": "code",
   "execution_count": 58,
   "metadata": {
    "colab": {
     "base_uri": "https://localhost:8080/"
    },
    "id": "a3Z8C2IvKYxl",
    "outputId": "2341d377-4b53-4727-8651-8a4cee13f239"
   },
   "outputs": [
    {
     "name": "stdout",
     "output_type": "stream",
     "text": [
      "No     7084\n",
      "Yes    1077\n",
      "Name: PARENT1, dtype: int64\n",
      "Yes     4894\n",
      "z_No    3267\n",
      "Name: MSTATUS, dtype: int64\n",
      "z_F    4375\n",
      "M      3786\n",
      "Name: SEX, dtype: int64\n",
      "z_High School    2330\n",
      "Bachelors        2242\n",
      "Masters          1658\n",
      "<High School     1203\n",
      "PhD               728\n",
      "Name: EDUCATION, dtype: int64\n",
      "z_Blue Collar    1825\n",
      "Clerical         1271\n",
      "Professional     1117\n",
      "Manager           988\n",
      "Lawyer            835\n",
      "Student           712\n",
      "Home Maker        641\n",
      "Doctor            246\n",
      "Name: JOB, dtype: int64\n",
      "Private       5132\n",
      "Commercial    3029\n",
      "Name: CAR_USE, dtype: int64\n",
      "z_SUV          2294\n",
      "Minivan        2145\n",
      "Pickup         1389\n",
      "Sports Car      907\n",
      "Van             750\n",
      "Panel Truck     676\n",
      "Name: CAR_TYPE, dtype: int64\n",
      "no     5783\n",
      "yes    2378\n",
      "Name: RED_CAR, dtype: int64\n",
      "No     7161\n",
      "Yes    1000\n",
      "Name: REVOKED, dtype: int64\n",
      "Highly Urban/ Urban      6492\n",
      "z_Highly Rural/ Rural    1669\n",
      "Name: URBANICITY, dtype: int64\n"
     ]
    }
   ],
   "source": [
    "# Look for the category distribution in categorical columns\n",
    "for col in columns_cat:\n",
    "    print(df_train[col].value_counts())"
   ]
  },
  {
   "cell_type": "markdown",
   "metadata": {
    "id": "ztNOQDGeKYxm"
   },
   "source": [
    "The attributes in columns_cat are categorical. "
   ]
  },
  {
   "cell_type": "code",
   "execution_count": 59,
   "metadata": {
    "id": "lm0DZ7NSKYxo"
   },
   "outputs": [],
   "source": [
    "# convert 'INCOME', 'HOME_VAL', 'BLUEBOOK' and 'OLDCLAIM' variables to float \n",
    "df_train['INCOME']=pd.to_numeric(df_train['INCOME'].replace('[^0-9\\.-]','',regex= True))\n",
    "df_train['HOME_VAL']=pd.to_numeric(df_train['HOME_VAL'].replace('[^0-9\\.-]','',regex= True))\n",
    "df_train['BLUEBOOK']=pd.to_numeric(df_train['BLUEBOOK'].replace('[^0-9\\.-]','',regex= True))\n",
    "df_train['OLDCLAIM']=pd.to_numeric(df_train['OLDCLAIM'].replace('[^0-9\\.-]','',regex= True))"
   ]
  },
  {
   "cell_type": "code",
   "execution_count": 60,
   "metadata": {
    "colab": {
     "base_uri": "https://localhost:8080/",
     "height": 382
    },
    "id": "Zptsk88QKYxo",
    "outputId": "7400847b-0666-42df-fd46-7193a03285d9"
   },
   "outputs": [
    {
     "data": {
      "text/html": [
       "<div>\n",
       "<style scoped>\n",
       "    .dataframe tbody tr th:only-of-type {\n",
       "        vertical-align: middle;\n",
       "    }\n",
       "\n",
       "    .dataframe tbody tr th {\n",
       "        vertical-align: top;\n",
       "    }\n",
       "\n",
       "    .dataframe thead th {\n",
       "        text-align: right;\n",
       "    }\n",
       "</style>\n",
       "<table border=\"1\" class=\"dataframe\">\n",
       "  <thead>\n",
       "    <tr style=\"text-align: right;\">\n",
       "      <th></th>\n",
       "      <th>TARGET_FLAG</th>\n",
       "      <th>KIDSDRIV</th>\n",
       "      <th>AGE</th>\n",
       "      <th>HOMEKIDS</th>\n",
       "      <th>YOJ</th>\n",
       "      <th>INCOME</th>\n",
       "      <th>PARENT1</th>\n",
       "      <th>HOME_VAL</th>\n",
       "      <th>MSTATUS</th>\n",
       "      <th>SEX</th>\n",
       "      <th>EDUCATION</th>\n",
       "      <th>JOB</th>\n",
       "      <th>TRAVTIME</th>\n",
       "      <th>CAR_USE</th>\n",
       "      <th>BLUEBOOK</th>\n",
       "      <th>TIF</th>\n",
       "      <th>CAR_TYPE</th>\n",
       "      <th>RED_CAR</th>\n",
       "      <th>OLDCLAIM</th>\n",
       "      <th>CLM_FREQ</th>\n",
       "      <th>REVOKED</th>\n",
       "      <th>MVR_PTS</th>\n",
       "      <th>CAR_AGE</th>\n",
       "      <th>URBANICITY</th>\n",
       "    </tr>\n",
       "  </thead>\n",
       "  <tbody>\n",
       "    <tr>\n",
       "      <th>6253</th>\n",
       "      <td>0</td>\n",
       "      <td>0</td>\n",
       "      <td>34.0</td>\n",
       "      <td>1</td>\n",
       "      <td>12.0</td>\n",
       "      <td>11047.0</td>\n",
       "      <td>No</td>\n",
       "      <td>127167.0</td>\n",
       "      <td>Yes</td>\n",
       "      <td>z_F</td>\n",
       "      <td>&lt;High School</td>\n",
       "      <td>Clerical</td>\n",
       "      <td>13</td>\n",
       "      <td>Private</td>\n",
       "      <td>6000</td>\n",
       "      <td>7</td>\n",
       "      <td>z_SUV</td>\n",
       "      <td>no</td>\n",
       "      <td>0</td>\n",
       "      <td>0</td>\n",
       "      <td>No</td>\n",
       "      <td>0</td>\n",
       "      <td>7.0</td>\n",
       "      <td>z_Highly Rural/ Rural</td>\n",
       "    </tr>\n",
       "    <tr>\n",
       "      <th>6892</th>\n",
       "      <td>0</td>\n",
       "      <td>0</td>\n",
       "      <td>42.0</td>\n",
       "      <td>0</td>\n",
       "      <td>6.0</td>\n",
       "      <td>48834.0</td>\n",
       "      <td>No</td>\n",
       "      <td>194280.0</td>\n",
       "      <td>Yes</td>\n",
       "      <td>M</td>\n",
       "      <td>z_High School</td>\n",
       "      <td>Clerical</td>\n",
       "      <td>37</td>\n",
       "      <td>Private</td>\n",
       "      <td>12720</td>\n",
       "      <td>14</td>\n",
       "      <td>Minivan</td>\n",
       "      <td>yes</td>\n",
       "      <td>0</td>\n",
       "      <td>0</td>\n",
       "      <td>No</td>\n",
       "      <td>0</td>\n",
       "      <td>1.0</td>\n",
       "      <td>z_Highly Rural/ Rural</td>\n",
       "    </tr>\n",
       "    <tr>\n",
       "      <th>200</th>\n",
       "      <td>0</td>\n",
       "      <td>0</td>\n",
       "      <td>45.0</td>\n",
       "      <td>0</td>\n",
       "      <td>NaN</td>\n",
       "      <td>19909.0</td>\n",
       "      <td>No</td>\n",
       "      <td>130331.0</td>\n",
       "      <td>Yes</td>\n",
       "      <td>z_F</td>\n",
       "      <td>&lt;High School</td>\n",
       "      <td>Clerical</td>\n",
       "      <td>14</td>\n",
       "      <td>Private</td>\n",
       "      <td>7990</td>\n",
       "      <td>1</td>\n",
       "      <td>Sports Car</td>\n",
       "      <td>no</td>\n",
       "      <td>0</td>\n",
       "      <td>0</td>\n",
       "      <td>No</td>\n",
       "      <td>0</td>\n",
       "      <td>1.0</td>\n",
       "      <td>Highly Urban/ Urban</td>\n",
       "    </tr>\n",
       "    <tr>\n",
       "      <th>5001</th>\n",
       "      <td>0</td>\n",
       "      <td>0</td>\n",
       "      <td>61.0</td>\n",
       "      <td>0</td>\n",
       "      <td>13.0</td>\n",
       "      <td>41349.0</td>\n",
       "      <td>No</td>\n",
       "      <td>215205.0</td>\n",
       "      <td>Yes</td>\n",
       "      <td>z_F</td>\n",
       "      <td>z_High School</td>\n",
       "      <td>z_Blue Collar</td>\n",
       "      <td>56</td>\n",
       "      <td>Commercial</td>\n",
       "      <td>14460</td>\n",
       "      <td>9</td>\n",
       "      <td>Sports Car</td>\n",
       "      <td>no</td>\n",
       "      <td>0</td>\n",
       "      <td>0</td>\n",
       "      <td>No</td>\n",
       "      <td>0</td>\n",
       "      <td>3.0</td>\n",
       "      <td>z_Highly Rural/ Rural</td>\n",
       "    </tr>\n",
       "    <tr>\n",
       "      <th>2910</th>\n",
       "      <td>0</td>\n",
       "      <td>0</td>\n",
       "      <td>46.0</td>\n",
       "      <td>0</td>\n",
       "      <td>13.0</td>\n",
       "      <td>153458.0</td>\n",
       "      <td>No</td>\n",
       "      <td>0.0</td>\n",
       "      <td>z_No</td>\n",
       "      <td>M</td>\n",
       "      <td>PhD</td>\n",
       "      <td>NaN</td>\n",
       "      <td>39</td>\n",
       "      <td>Commercial</td>\n",
       "      <td>40980</td>\n",
       "      <td>11</td>\n",
       "      <td>Panel Truck</td>\n",
       "      <td>yes</td>\n",
       "      <td>16328</td>\n",
       "      <td>3</td>\n",
       "      <td>No</td>\n",
       "      <td>1</td>\n",
       "      <td>15.0</td>\n",
       "      <td>Highly Urban/ Urban</td>\n",
       "    </tr>\n",
       "  </tbody>\n",
       "</table>\n",
       "</div>"
      ],
      "text/plain": [
       "      TARGET_FLAG  KIDSDRIV   AGE  HOMEKIDS   YOJ    INCOME PARENT1  HOME_VAL  \\\n",
       "6253            0         0  34.0         1  12.0   11047.0      No  127167.0   \n",
       "6892            0         0  42.0         0   6.0   48834.0      No  194280.0   \n",
       "200             0         0  45.0         0   NaN   19909.0      No  130331.0   \n",
       "5001            0         0  61.0         0  13.0   41349.0      No  215205.0   \n",
       "2910            0         0  46.0         0  13.0  153458.0      No       0.0   \n",
       "\n",
       "     MSTATUS  SEX      EDUCATION            JOB  TRAVTIME     CAR_USE  \\\n",
       "6253     Yes  z_F   <High School       Clerical        13     Private   \n",
       "6892     Yes    M  z_High School       Clerical        37     Private   \n",
       "200      Yes  z_F   <High School       Clerical        14     Private   \n",
       "5001     Yes  z_F  z_High School  z_Blue Collar        56  Commercial   \n",
       "2910    z_No    M            PhD            NaN        39  Commercial   \n",
       "\n",
       "      BLUEBOOK  TIF     CAR_TYPE RED_CAR  OLDCLAIM  CLM_FREQ REVOKED  MVR_PTS  \\\n",
       "6253      6000    7        z_SUV      no         0         0      No        0   \n",
       "6892     12720   14      Minivan     yes         0         0      No        0   \n",
       "200       7990    1   Sports Car      no         0         0      No        0   \n",
       "5001     14460    9   Sports Car      no         0         0      No        0   \n",
       "2910     40980   11  Panel Truck     yes     16328         3      No        1   \n",
       "\n",
       "      CAR_AGE             URBANICITY  \n",
       "6253      7.0  z_Highly Rural/ Rural  \n",
       "6892      1.0  z_Highly Rural/ Rural  \n",
       "200       1.0    Highly Urban/ Urban  \n",
       "5001      3.0  z_Highly Rural/ Rural  \n",
       "2910     15.0    Highly Urban/ Urban  "
      ]
     },
     "execution_count": 60,
     "metadata": {},
     "output_type": "execute_result"
    }
   ],
   "source": [
    "# look at a few rows of the dataframe again\n",
    "df_train.head()"
   ]
  },
  {
   "cell_type": "code",
   "execution_count": 61,
   "metadata": {
    "colab": {
     "base_uri": "https://localhost:8080/"
    },
    "id": "qgouA0yuKYxo",
    "outputId": "fbac459b-b9ec-4d54-b541-e57640fb8de3"
   },
   "outputs": [
    {
     "name": "stdout",
     "output_type": "stream",
     "text": [
      "<class 'pandas.core.frame.DataFrame'>\n",
      "Int64Index: 8161 entries, 6253 to 5392\n",
      "Data columns (total 24 columns):\n",
      " #   Column       Non-Null Count  Dtype  \n",
      "---  ------       --------------  -----  \n",
      " 0   TARGET_FLAG  8161 non-null   int64  \n",
      " 1   KIDSDRIV     8161 non-null   int64  \n",
      " 2   AGE          8155 non-null   float64\n",
      " 3   HOMEKIDS     8161 non-null   int64  \n",
      " 4   YOJ          7707 non-null   float64\n",
      " 5   INCOME       7716 non-null   float64\n",
      " 6   PARENT1      8161 non-null   object \n",
      " 7   HOME_VAL     7697 non-null   float64\n",
      " 8   MSTATUS      8161 non-null   object \n",
      " 9   SEX          8161 non-null   object \n",
      " 10  EDUCATION    8161 non-null   object \n",
      " 11  JOB          7635 non-null   object \n",
      " 12  TRAVTIME     8161 non-null   int64  \n",
      " 13  CAR_USE      8161 non-null   object \n",
      " 14  BLUEBOOK     8161 non-null   int64  \n",
      " 15  TIF          8161 non-null   int64  \n",
      " 16  CAR_TYPE     8161 non-null   object \n",
      " 17  RED_CAR      8161 non-null   object \n",
      " 18  OLDCLAIM     8161 non-null   int64  \n",
      " 19  CLM_FREQ     8161 non-null   int64  \n",
      " 20  REVOKED      8161 non-null   object \n",
      " 21  MVR_PTS      8161 non-null   int64  \n",
      " 22  CAR_AGE      7651 non-null   float64\n",
      " 23  URBANICITY   8161 non-null   object \n",
      "dtypes: float64(5), int64(9), object(10)\n",
      "memory usage: 1.6+ MB\n"
     ]
    }
   ],
   "source": [
    "# check the variables conversion\n",
    "df_train.info()"
   ]
  },
  {
   "cell_type": "code",
   "execution_count": 62,
   "metadata": {
    "colab": {
     "base_uri": "https://localhost:8080/",
     "height": 320
    },
    "id": "l4Qur3xfKYxp",
    "outputId": "ae9c437e-7e24-4790-b389-c221b15d6693"
   },
   "outputs": [
    {
     "data": {
      "text/html": [
       "<div>\n",
       "<style scoped>\n",
       "    .dataframe tbody tr th:only-of-type {\n",
       "        vertical-align: middle;\n",
       "    }\n",
       "\n",
       "    .dataframe tbody tr th {\n",
       "        vertical-align: top;\n",
       "    }\n",
       "\n",
       "    .dataframe thead th {\n",
       "        text-align: right;\n",
       "    }\n",
       "</style>\n",
       "<table border=\"1\" class=\"dataframe\">\n",
       "  <thead>\n",
       "    <tr style=\"text-align: right;\">\n",
       "      <th></th>\n",
       "      <th>TARGET_FLAG</th>\n",
       "      <th>KIDSDRIV</th>\n",
       "      <th>AGE</th>\n",
       "      <th>HOMEKIDS</th>\n",
       "      <th>YOJ</th>\n",
       "      <th>INCOME</th>\n",
       "      <th>HOME_VAL</th>\n",
       "      <th>TRAVTIME</th>\n",
       "      <th>BLUEBOOK</th>\n",
       "      <th>TIF</th>\n",
       "      <th>OLDCLAIM</th>\n",
       "      <th>CLM_FREQ</th>\n",
       "      <th>MVR_PTS</th>\n",
       "      <th>CAR_AGE</th>\n",
       "    </tr>\n",
       "  </thead>\n",
       "  <tbody>\n",
       "    <tr>\n",
       "      <th>count</th>\n",
       "      <td>8161.000000</td>\n",
       "      <td>8161.000000</td>\n",
       "      <td>8155.000000</td>\n",
       "      <td>8161.000000</td>\n",
       "      <td>7707.000000</td>\n",
       "      <td>7716.000000</td>\n",
       "      <td>7697.000000</td>\n",
       "      <td>8161.000000</td>\n",
       "      <td>8161.000000</td>\n",
       "      <td>8161.000000</td>\n",
       "      <td>8161.000000</td>\n",
       "      <td>8161.000000</td>\n",
       "      <td>8161.000000</td>\n",
       "      <td>7651.000000</td>\n",
       "    </tr>\n",
       "    <tr>\n",
       "      <th>mean</th>\n",
       "      <td>0.263816</td>\n",
       "      <td>0.171057</td>\n",
       "      <td>44.790313</td>\n",
       "      <td>0.721235</td>\n",
       "      <td>10.499286</td>\n",
       "      <td>61898.094609</td>\n",
       "      <td>154867.289723</td>\n",
       "      <td>33.485725</td>\n",
       "      <td>15709.899522</td>\n",
       "      <td>5.351305</td>\n",
       "      <td>4037.076216</td>\n",
       "      <td>0.798554</td>\n",
       "      <td>1.695503</td>\n",
       "      <td>8.328323</td>\n",
       "    </tr>\n",
       "    <tr>\n",
       "      <th>std</th>\n",
       "      <td>0.440728</td>\n",
       "      <td>0.511534</td>\n",
       "      <td>8.627589</td>\n",
       "      <td>1.116323</td>\n",
       "      <td>4.092474</td>\n",
       "      <td>47572.682808</td>\n",
       "      <td>129123.774574</td>\n",
       "      <td>15.908333</td>\n",
       "      <td>8419.734075</td>\n",
       "      <td>4.146635</td>\n",
       "      <td>8777.139104</td>\n",
       "      <td>1.158453</td>\n",
       "      <td>2.147112</td>\n",
       "      <td>5.700742</td>\n",
       "    </tr>\n",
       "    <tr>\n",
       "      <th>min</th>\n",
       "      <td>0.000000</td>\n",
       "      <td>0.000000</td>\n",
       "      <td>16.000000</td>\n",
       "      <td>0.000000</td>\n",
       "      <td>0.000000</td>\n",
       "      <td>0.000000</td>\n",
       "      <td>0.000000</td>\n",
       "      <td>5.000000</td>\n",
       "      <td>1500.000000</td>\n",
       "      <td>1.000000</td>\n",
       "      <td>0.000000</td>\n",
       "      <td>0.000000</td>\n",
       "      <td>0.000000</td>\n",
       "      <td>-3.000000</td>\n",
       "    </tr>\n",
       "    <tr>\n",
       "      <th>25%</th>\n",
       "      <td>0.000000</td>\n",
       "      <td>0.000000</td>\n",
       "      <td>39.000000</td>\n",
       "      <td>0.000000</td>\n",
       "      <td>9.000000</td>\n",
       "      <td>28097.000000</td>\n",
       "      <td>0.000000</td>\n",
       "      <td>22.000000</td>\n",
       "      <td>9280.000000</td>\n",
       "      <td>1.000000</td>\n",
       "      <td>0.000000</td>\n",
       "      <td>0.000000</td>\n",
       "      <td>0.000000</td>\n",
       "      <td>1.000000</td>\n",
       "    </tr>\n",
       "    <tr>\n",
       "      <th>50%</th>\n",
       "      <td>0.000000</td>\n",
       "      <td>0.000000</td>\n",
       "      <td>45.000000</td>\n",
       "      <td>0.000000</td>\n",
       "      <td>11.000000</td>\n",
       "      <td>54028.000000</td>\n",
       "      <td>161160.000000</td>\n",
       "      <td>33.000000</td>\n",
       "      <td>14440.000000</td>\n",
       "      <td>4.000000</td>\n",
       "      <td>0.000000</td>\n",
       "      <td>0.000000</td>\n",
       "      <td>1.000000</td>\n",
       "      <td>8.000000</td>\n",
       "    </tr>\n",
       "    <tr>\n",
       "      <th>75%</th>\n",
       "      <td>1.000000</td>\n",
       "      <td>0.000000</td>\n",
       "      <td>51.000000</td>\n",
       "      <td>1.000000</td>\n",
       "      <td>13.000000</td>\n",
       "      <td>85986.000000</td>\n",
       "      <td>238724.000000</td>\n",
       "      <td>44.000000</td>\n",
       "      <td>20850.000000</td>\n",
       "      <td>7.000000</td>\n",
       "      <td>4636.000000</td>\n",
       "      <td>2.000000</td>\n",
       "      <td>3.000000</td>\n",
       "      <td>12.000000</td>\n",
       "    </tr>\n",
       "    <tr>\n",
       "      <th>max</th>\n",
       "      <td>1.000000</td>\n",
       "      <td>4.000000</td>\n",
       "      <td>81.000000</td>\n",
       "      <td>5.000000</td>\n",
       "      <td>23.000000</td>\n",
       "      <td>367030.000000</td>\n",
       "      <td>885282.000000</td>\n",
       "      <td>142.000000</td>\n",
       "      <td>69740.000000</td>\n",
       "      <td>25.000000</td>\n",
       "      <td>57037.000000</td>\n",
       "      <td>5.000000</td>\n",
       "      <td>13.000000</td>\n",
       "      <td>28.000000</td>\n",
       "    </tr>\n",
       "  </tbody>\n",
       "</table>\n",
       "</div>"
      ],
      "text/plain": [
       "       TARGET_FLAG     KIDSDRIV          AGE     HOMEKIDS          YOJ  \\\n",
       "count  8161.000000  8161.000000  8155.000000  8161.000000  7707.000000   \n",
       "mean      0.263816     0.171057    44.790313     0.721235    10.499286   \n",
       "std       0.440728     0.511534     8.627589     1.116323     4.092474   \n",
       "min       0.000000     0.000000    16.000000     0.000000     0.000000   \n",
       "25%       0.000000     0.000000    39.000000     0.000000     9.000000   \n",
       "50%       0.000000     0.000000    45.000000     0.000000    11.000000   \n",
       "75%       1.000000     0.000000    51.000000     1.000000    13.000000   \n",
       "max       1.000000     4.000000    81.000000     5.000000    23.000000   \n",
       "\n",
       "              INCOME       HOME_VAL     TRAVTIME      BLUEBOOK          TIF  \\\n",
       "count    7716.000000    7697.000000  8161.000000   8161.000000  8161.000000   \n",
       "mean    61898.094609  154867.289723    33.485725  15709.899522     5.351305   \n",
       "std     47572.682808  129123.774574    15.908333   8419.734075     4.146635   \n",
       "min         0.000000       0.000000     5.000000   1500.000000     1.000000   \n",
       "25%     28097.000000       0.000000    22.000000   9280.000000     1.000000   \n",
       "50%     54028.000000  161160.000000    33.000000  14440.000000     4.000000   \n",
       "75%     85986.000000  238724.000000    44.000000  20850.000000     7.000000   \n",
       "max    367030.000000  885282.000000   142.000000  69740.000000    25.000000   \n",
       "\n",
       "           OLDCLAIM     CLM_FREQ      MVR_PTS      CAR_AGE  \n",
       "count   8161.000000  8161.000000  8161.000000  7651.000000  \n",
       "mean    4037.076216     0.798554     1.695503     8.328323  \n",
       "std     8777.139104     1.158453     2.147112     5.700742  \n",
       "min        0.000000     0.000000     0.000000    -3.000000  \n",
       "25%        0.000000     0.000000     0.000000     1.000000  \n",
       "50%        0.000000     0.000000     1.000000     8.000000  \n",
       "75%     4636.000000     2.000000     3.000000    12.000000  \n",
       "max    57037.000000     5.000000    13.000000    28.000000  "
      ]
     },
     "execution_count": 62,
     "metadata": {},
     "output_type": "execute_result"
    }
   ],
   "source": [
    "\n",
    "df_train.describe()"
   ]
  },
  {
   "cell_type": "markdown",
   "metadata": {
    "id": "MGjfr5K0BZIp"
   },
   "source": [
    "'CAR_AGE' has a negative minimum. The age should be positive. "
   ]
  },
  {
   "cell_type": "code",
   "execution_count": 63,
   "metadata": {
    "id": "W5B6QPWkKYxq"
   },
   "outputs": [],
   "source": [
    "# negative car age \n",
    "df_train[df_train['CAR_AGE'] < 0] = 0"
   ]
  },
  {
   "cell_type": "code",
   "execution_count": 64,
   "metadata": {
    "id": "OURdQor-KYxq"
   },
   "outputs": [],
   "source": [
    "df_train=df_train.drop(df_train[df_train['EDUCATION']==0].index)"
   ]
  },
  {
   "cell_type": "code",
   "execution_count": 65,
   "metadata": {
    "colab": {
     "base_uri": "https://localhost:8080/"
    },
    "id": "gQ0de8VMKYxs",
    "outputId": "975e40d2-9a77-49fb-e5f2-1af70a0166bd"
   },
   "outputs": [
    {
     "data": {
      "text/plain": [
       "JOB            526\n",
       "CAR_AGE        510\n",
       "HOME_VAL       464\n",
       "YOJ            454\n",
       "INCOME         445\n",
       "AGE              6\n",
       "KIDSDRIV         0\n",
       "HOMEKIDS         0\n",
       "PARENT1          0\n",
       "MSTATUS          0\n",
       "SEX              0\n",
       "EDUCATION        0\n",
       "URBANICITY       0\n",
       "TRAVTIME         0\n",
       "CAR_USE          0\n",
       "BLUEBOOK         0\n",
       "TIF              0\n",
       "CAR_TYPE         0\n",
       "RED_CAR          0\n",
       "OLDCLAIM         0\n",
       "CLM_FREQ         0\n",
       "REVOKED          0\n",
       "MVR_PTS          0\n",
       "TARGET_FLAG      0\n",
       "dtype: int64"
      ]
     },
     "execution_count": 65,
     "metadata": {},
     "output_type": "execute_result"
    }
   ],
   "source": [
    "# Check for missing values\n",
    "df_train.isna().sum().sort_values(ascending=False)"
   ]
  },
  {
   "cell_type": "code",
   "execution_count": 66,
   "metadata": {
    "id": "tUH5B_O0KYxs"
   },
   "outputs": [],
   "source": [
    "# 'JOB' variable\n",
    "df_train['JOB'] = df_train['JOB'].fillna('unknown')"
   ]
  },
  {
   "cell_type": "code",
   "execution_count": 67,
   "metadata": {
    "colab": {
     "base_uri": "https://localhost:8080/",
     "height": 421
    },
    "id": "T84ZaPcrKYxs",
    "outputId": "1eec2648-b038-427c-dd4c-ab36d49e6ce3"
   },
   "outputs": [
    {
     "data": {
      "text/plain": [
       "count    8154.000000\n",
       "mean       44.790042\n",
       "std         8.628084\n",
       "min        16.000000\n",
       "25%        39.000000\n",
       "50%        45.000000\n",
       "75%        51.000000\n",
       "max        81.000000\n",
       "Name: AGE, dtype: float64"
      ]
     },
     "execution_count": 67,
     "metadata": {},
     "output_type": "execute_result"
    },
    {
     "data": {
      "image/png": "[encoded data removed]",
      "text/plain": [
       "<Figure size 432x288 with 1 Axes>"
      ]
     },
     "metadata": {
      "needs_background": "light"
     },
     "output_type": "display_data"
    }
   ],
   "source": [
    "# 'AGE' variable\n",
    "df_train['AGE'].plot(kind='box')\n",
    "df_train['AGE'].describe()"
   ]
  },
  {
   "cell_type": "markdown",
   "metadata": {
    "id": "9_2fc0ziKYxt"
   },
   "source": [
    "The distribution is non-skewed, we can then fill missing values with the mean value"
   ]
  },
  {
   "cell_type": "code",
   "execution_count": 68,
   "metadata": {
    "id": "8N3XUVd_KYxt"
   },
   "outputs": [],
   "source": [
    "df_train['AGE']=df_train['AGE'].fillna(df_train['AGE'].mean())"
   ]
  },
  {
   "cell_type": "code",
   "execution_count": 69,
   "metadata": {
    "colab": {
     "base_uri": "https://localhost:8080/",
     "height": 421
    },
    "id": "vzkrbJZXKYxt",
    "outputId": "70fd0c64-f38f-4bc7-ed5a-27eafd842d64"
   },
   "outputs": [
    {
     "data": {
      "text/plain": [
       "count      7715.000000\n",
       "mean      61899.805833\n",
       "std       47575.528746\n",
       "min           0.000000\n",
       "25%       28094.000000\n",
       "50%       54028.000000\n",
       "75%       86021.000000\n",
       "max      367030.000000\n",
       "Name: INCOME, dtype: float64"
      ]
     },
     "execution_count": 69,
     "metadata": {},
     "output_type": "execute_result"
    },
    {
     "data": {
      "image/png": "[encoded data removed]",
      "text/plain": [
       "<Figure size 432x288 with 1 Axes>"
      ]
     },
     "metadata": {
      "needs_background": "light"
     },
     "output_type": "display_data"
    }
   ],
   "source": [
    "# 'INCOME' variable\n",
    "df_train['INCOME'].plot(kind='box')\n",
    "df_train['INCOME'].describe()"
   ]
  },
  {
   "cell_type": "markdown",
   "metadata": {
    "id": "6FlIIlLvKYxu"
   },
   "source": [
    "The distribution shows a skeweness, the median is quite different from the average which is affected by outliers. we will fill missing values with the median"
   ]
  },
  {
   "cell_type": "code",
   "execution_count": 70,
   "metadata": {
    "id": "vIT5YdZrKYxu"
   },
   "outputs": [],
   "source": [
    "df_train['INCOME']=df_train['INCOME'].fillna(df_train['INCOME'].median())"
   ]
  },
  {
   "cell_type": "code",
   "execution_count": 71,
   "metadata": {
    "id": "7w-rXJqqKYxu"
   },
   "outputs": [],
   "source": [
    "# other variables\n",
    "df_train['CAR_AGE']=df_train['CAR_AGE'].fillna(df_train['CAR_AGE'].mean())\n",
    "df_train['HOME_VAL']=df_train['HOME_VAL'].fillna(df_train['HOME_VAL'].median())\n",
    "df_train['YOJ']=df_train['YOJ'].fillna(df_train['YOJ'].mean())"
   ]
  },
  {
   "cell_type": "code",
   "execution_count": 72,
   "metadata": {
    "id": "Cz3ezwhaKYxv"
   },
   "outputs": [],
   "source": [
    "# correlation matrix\n",
    "corr_df=df_train.corr('spearman')"
   ]
  },
  {
   "cell_type": "code",
   "execution_count": 73,
   "metadata": {
    "colab": {
     "base_uri": "https://localhost:8080/",
     "height": 508
    },
    "id": "ntxLS6TfBZIs",
    "outputId": "15f3d62b-4872-49ae-e45e-df3fbc621145"
   },
   "outputs": [
    {
     "data": {
      "text/html": [
       "<div>\n",
       "<style scoped>\n",
       "    .dataframe tbody tr th:only-of-type {\n",
       "        vertical-align: middle;\n",
       "    }\n",
       "\n",
       "    .dataframe tbody tr th {\n",
       "        vertical-align: top;\n",
       "    }\n",
       "\n",
       "    .dataframe thead th {\n",
       "        text-align: right;\n",
       "    }\n",
       "</style>\n",
       "<table border=\"1\" class=\"dataframe\">\n",
       "  <thead>\n",
       "    <tr style=\"text-align: right;\">\n",
       "      <th></th>\n",
       "      <th>TARGET_FLAG</th>\n",
       "      <th>KIDSDRIV</th>\n",
       "      <th>AGE</th>\n",
       "      <th>HOMEKIDS</th>\n",
       "      <th>YOJ</th>\n",
       "      <th>INCOME</th>\n",
       "      <th>HOME_VAL</th>\n",
       "      <th>TRAVTIME</th>\n",
       "      <th>BLUEBOOK</th>\n",
       "      <th>TIF</th>\n",
       "      <th>OLDCLAIM</th>\n",
       "      <th>CLM_FREQ</th>\n",
       "      <th>MVR_PTS</th>\n",
       "      <th>CAR_AGE</th>\n",
       "    </tr>\n",
       "  </thead>\n",
       "  <tbody>\n",
       "    <tr>\n",
       "      <th>TARGET_FLAG</th>\n",
       "      <td>1.000000</td>\n",
       "      <td>0.104776</td>\n",
       "      <td>-0.104951</td>\n",
       "      <td>0.126882</td>\n",
       "      <td>-0.055658</td>\n",
       "      <td>-0.146667</td>\n",
       "      <td>-0.181825</td>\n",
       "      <td>0.056424</td>\n",
       "      <td>-0.114521</td>\n",
       "      <td>-0.084576</td>\n",
       "      <td>0.232915</td>\n",
       "      <td>0.236415</td>\n",
       "      <td>0.193504</td>\n",
       "      <td>-0.098164</td>\n",
       "    </tr>\n",
       "    <tr>\n",
       "      <th>KIDSDRIV</th>\n",
       "      <td>0.104776</td>\n",
       "      <td>1.000000</td>\n",
       "      <td>-0.128594</td>\n",
       "      <td>0.491098</td>\n",
       "      <td>0.071600</td>\n",
       "      <td>-0.046687</td>\n",
       "      <td>-0.021911</td>\n",
       "      <td>0.001628</td>\n",
       "      <td>-0.020391</td>\n",
       "      <td>-0.009839</td>\n",
       "      <td>0.044097</td>\n",
       "      <td>0.045185</td>\n",
       "      <td>0.043483</td>\n",
       "      <td>-0.049171</td>\n",
       "    </tr>\n",
       "    <tr>\n",
       "      <th>AGE</th>\n",
       "      <td>-0.104951</td>\n",
       "      <td>-0.128594</td>\n",
       "      <td>1.000000</td>\n",
       "      <td>-0.515892</td>\n",
       "      <td>0.136874</td>\n",
       "      <td>0.176238</td>\n",
       "      <td>0.199788</td>\n",
       "      <td>0.006956</td>\n",
       "      <td>0.165052</td>\n",
       "      <td>-0.001629</td>\n",
       "      <td>-0.038546</td>\n",
       "      <td>-0.033822</td>\n",
       "      <td>-0.062706</td>\n",
       "      <td>0.174690</td>\n",
       "    </tr>\n",
       "    <tr>\n",
       "      <th>HOMEKIDS</th>\n",
       "      <td>0.126882</td>\n",
       "      <td>0.491098</td>\n",
       "      <td>-0.515892</td>\n",
       "      <td>1.000000</td>\n",
       "      <td>0.134520</td>\n",
       "      <td>-0.165428</td>\n",
       "      <td>-0.114058</td>\n",
       "      <td>-0.012567</td>\n",
       "      <td>-0.116389</td>\n",
       "      <td>0.005429</td>\n",
       "      <td>0.052385</td>\n",
       "      <td>0.046074</td>\n",
       "      <td>0.055219</td>\n",
       "      <td>-0.155972</td>\n",
       "    </tr>\n",
       "    <tr>\n",
       "      <th>YOJ</th>\n",
       "      <td>-0.055658</td>\n",
       "      <td>0.071600</td>\n",
       "      <td>0.136874</td>\n",
       "      <td>0.134520</td>\n",
       "      <td>1.000000</td>\n",
       "      <td>0.195235</td>\n",
       "      <td>0.222467</td>\n",
       "      <td>-0.004230</td>\n",
       "      <td>0.089356</td>\n",
       "      <td>0.014445</td>\n",
       "      <td>-0.011012</td>\n",
       "      <td>-0.018947</td>\n",
       "      <td>-0.026827</td>\n",
       "      <td>0.035146</td>\n",
       "    </tr>\n",
       "    <tr>\n",
       "      <th>INCOME</th>\n",
       "      <td>-0.146667</td>\n",
       "      <td>-0.046687</td>\n",
       "      <td>0.176238</td>\n",
       "      <td>-0.165428</td>\n",
       "      <td>0.195235</td>\n",
       "      <td>1.000000</td>\n",
       "      <td>0.535700</td>\n",
       "      <td>-0.038142</td>\n",
       "      <td>0.396033</td>\n",
       "      <td>0.002630</td>\n",
       "      <td>-0.058188</td>\n",
       "      <td>-0.052061</td>\n",
       "      <td>-0.045067</td>\n",
       "      <td>0.408759</td>\n",
       "    </tr>\n",
       "    <tr>\n",
       "      <th>HOME_VAL</th>\n",
       "      <td>-0.181825</td>\n",
       "      <td>-0.021911</td>\n",
       "      <td>0.199788</td>\n",
       "      <td>-0.114058</td>\n",
       "      <td>0.222467</td>\n",
       "      <td>0.535700</td>\n",
       "      <td>1.000000</td>\n",
       "      <td>-0.028927</td>\n",
       "      <td>0.232625</td>\n",
       "      <td>0.003163</td>\n",
       "      <td>-0.101416</td>\n",
       "      <td>-0.099030</td>\n",
       "      <td>-0.058348</td>\n",
       "      <td>0.209343</td>\n",
       "    </tr>\n",
       "    <tr>\n",
       "      <th>TRAVTIME</th>\n",
       "      <td>0.056424</td>\n",
       "      <td>0.001628</td>\n",
       "      <td>0.006956</td>\n",
       "      <td>-0.012567</td>\n",
       "      <td>-0.004230</td>\n",
       "      <td>-0.038142</td>\n",
       "      <td>-0.028927</td>\n",
       "      <td>1.000000</td>\n",
       "      <td>-0.011338</td>\n",
       "      <td>-0.007833</td>\n",
       "      <td>-0.001266</td>\n",
       "      <td>0.007940</td>\n",
       "      <td>0.008533</td>\n",
       "      <td>-0.035218</td>\n",
       "    </tr>\n",
       "    <tr>\n",
       "      <th>BLUEBOOK</th>\n",
       "      <td>-0.114521</td>\n",
       "      <td>-0.020391</td>\n",
       "      <td>0.165052</td>\n",
       "      <td>-0.116389</td>\n",
       "      <td>0.089356</td>\n",
       "      <td>0.396033</td>\n",
       "      <td>0.232625</td>\n",
       "      <td>-0.011338</td>\n",
       "      <td>1.000000</td>\n",
       "      <td>0.001104</td>\n",
       "      <td>-0.040271</td>\n",
       "      <td>-0.041896</td>\n",
       "      <td>-0.036156</td>\n",
       "      <td>0.186976</td>\n",
       "    </tr>\n",
       "    <tr>\n",
       "      <th>TIF</th>\n",
       "      <td>-0.084576</td>\n",
       "      <td>-0.009839</td>\n",
       "      <td>-0.001629</td>\n",
       "      <td>0.005429</td>\n",
       "      <td>0.014445</td>\n",
       "      <td>0.002630</td>\n",
       "      <td>0.003163</td>\n",
       "      <td>-0.007833</td>\n",
       "      <td>0.001104</td>\n",
       "      <td>1.000000</td>\n",
       "      <td>-0.028101</td>\n",
       "      <td>-0.023935</td>\n",
       "      <td>-0.041769</td>\n",
       "      <td>-0.001557</td>\n",
       "    </tr>\n",
       "    <tr>\n",
       "      <th>OLDCLAIM</th>\n",
       "      <td>0.232915</td>\n",
       "      <td>0.044097</td>\n",
       "      <td>-0.038546</td>\n",
       "      <td>0.052385</td>\n",
       "      <td>-0.011012</td>\n",
       "      <td>-0.058188</td>\n",
       "      <td>-0.101416</td>\n",
       "      <td>-0.001266</td>\n",
       "      <td>-0.040271</td>\n",
       "      <td>-0.028101</td>\n",
       "      <td>1.000000</td>\n",
       "      <td>0.927198</td>\n",
       "      <td>0.414948</td>\n",
       "      <td>-0.020098</td>\n",
       "    </tr>\n",
       "    <tr>\n",
       "      <th>CLM_FREQ</th>\n",
       "      <td>0.236415</td>\n",
       "      <td>0.045185</td>\n",
       "      <td>-0.033822</td>\n",
       "      <td>0.046074</td>\n",
       "      <td>-0.018947</td>\n",
       "      <td>-0.052061</td>\n",
       "      <td>-0.099030</td>\n",
       "      <td>0.007940</td>\n",
       "      <td>-0.041896</td>\n",
       "      <td>-0.023935</td>\n",
       "      <td>0.927198</td>\n",
       "      <td>1.000000</td>\n",
       "      <td>0.414033</td>\n",
       "      <td>-0.014552</td>\n",
       "    </tr>\n",
       "    <tr>\n",
       "      <th>MVR_PTS</th>\n",
       "      <td>0.193504</td>\n",
       "      <td>0.043483</td>\n",
       "      <td>-0.062706</td>\n",
       "      <td>0.055219</td>\n",
       "      <td>-0.026827</td>\n",
       "      <td>-0.045067</td>\n",
       "      <td>-0.058348</td>\n",
       "      <td>0.008533</td>\n",
       "      <td>-0.036156</td>\n",
       "      <td>-0.041769</td>\n",
       "      <td>0.414948</td>\n",
       "      <td>0.414033</td>\n",
       "      <td>1.000000</td>\n",
       "      <td>-0.007725</td>\n",
       "    </tr>\n",
       "    <tr>\n",
       "      <th>CAR_AGE</th>\n",
       "      <td>-0.098164</td>\n",
       "      <td>-0.049171</td>\n",
       "      <td>0.174690</td>\n",
       "      <td>-0.155972</td>\n",
       "      <td>0.035146</td>\n",
       "      <td>0.408759</td>\n",
       "      <td>0.209343</td>\n",
       "      <td>-0.035218</td>\n",
       "      <td>0.186976</td>\n",
       "      <td>-0.001557</td>\n",
       "      <td>-0.020098</td>\n",
       "      <td>-0.014552</td>\n",
       "      <td>-0.007725</td>\n",
       "      <td>1.000000</td>\n",
       "    </tr>\n",
       "  </tbody>\n",
       "</table>\n",
       "</div>"
      ],
      "text/plain": [
       "             TARGET_FLAG  KIDSDRIV       AGE  HOMEKIDS       YOJ    INCOME  \\\n",
       "TARGET_FLAG     1.000000  0.104776 -0.104951  0.126882 -0.055658 -0.146667   \n",
       "KIDSDRIV        0.104776  1.000000 -0.128594  0.491098  0.071600 -0.046687   \n",
       "AGE            -0.104951 -0.128594  1.000000 -0.515892  0.136874  0.176238   \n",
       "HOMEKIDS        0.126882  0.491098 -0.515892  1.000000  0.134520 -0.165428   \n",
       "YOJ            -0.055658  0.071600  0.136874  0.134520  1.000000  0.195235   \n",
       "INCOME         -0.146667 -0.046687  0.176238 -0.165428  0.195235  1.000000   \n",
       "HOME_VAL       -0.181825 -0.021911  0.199788 -0.114058  0.222467  0.535700   \n",
       "TRAVTIME        0.056424  0.001628  0.006956 -0.012567 -0.004230 -0.038142   \n",
       "BLUEBOOK       -0.114521 -0.020391  0.165052 -0.116389  0.089356  0.396033   \n",
       "TIF            -0.084576 -0.009839 -0.001629  0.005429  0.014445  0.002630   \n",
       "OLDCLAIM        0.232915  0.044097 -0.038546  0.052385 -0.011012 -0.058188   \n",
       "CLM_FREQ        0.236415  0.045185 -0.033822  0.046074 -0.018947 -0.052061   \n",
       "MVR_PTS         0.193504  0.043483 -0.062706  0.055219 -0.026827 -0.045067   \n",
       "CAR_AGE        -0.098164 -0.049171  0.174690 -0.155972  0.035146  0.408759   \n",
       "\n",
       "             HOME_VAL  TRAVTIME  BLUEBOOK       TIF  OLDCLAIM  CLM_FREQ  \\\n",
       "TARGET_FLAG -0.181825  0.056424 -0.114521 -0.084576  0.232915  0.236415   \n",
       "KIDSDRIV    -0.021911  0.001628 -0.020391 -0.009839  0.044097  0.045185   \n",
       "AGE          0.199788  0.006956  0.165052 -0.001629 -0.038546 -0.033822   \n",
       "HOMEKIDS    -0.114058 -0.012567 -0.116389  0.005429  0.052385  0.046074   \n",
       "YOJ          0.222467 -0.004230  0.089356  0.014445 -0.011012 -0.018947   \n",
       "INCOME       0.535700 -0.038142  0.396033  0.002630 -0.058188 -0.052061   \n",
       "HOME_VAL     1.000000 -0.028927  0.232625  0.003163 -0.101416 -0.099030   \n",
       "TRAVTIME    -0.028927  1.000000 -0.011338 -0.007833 -0.001266  0.007940   \n",
       "BLUEBOOK     0.232625 -0.011338  1.000000  0.001104 -0.040271 -0.041896   \n",
       "TIF          0.003163 -0.007833  0.001104  1.000000 -0.028101 -0.023935   \n",
       "OLDCLAIM    -0.101416 -0.001266 -0.040271 -0.028101  1.000000  0.927198   \n",
       "CLM_FREQ    -0.099030  0.007940 -0.041896 -0.023935  0.927198  1.000000   \n",
       "MVR_PTS     -0.058348  0.008533 -0.036156 -0.041769  0.414948  0.414033   \n",
       "CAR_AGE      0.209343 -0.035218  0.186976 -0.001557 -0.020098 -0.014552   \n",
       "\n",
       "              MVR_PTS   CAR_AGE  \n",
       "TARGET_FLAG  0.193504 -0.098164  \n",
       "KIDSDRIV     0.043483 -0.049171  \n",
       "AGE         -0.062706  0.174690  \n",
       "HOMEKIDS     0.055219 -0.155972  \n",
       "YOJ         -0.026827  0.035146  \n",
       "INCOME      -0.045067  0.408759  \n",
       "HOME_VAL    -0.058348  0.209343  \n",
       "TRAVTIME     0.008533 -0.035218  \n",
       "BLUEBOOK    -0.036156  0.186976  \n",
       "TIF         -0.041769 -0.001557  \n",
       "OLDCLAIM     0.414948 -0.020098  \n",
       "CLM_FREQ     0.414033 -0.014552  \n",
       "MVR_PTS      1.000000 -0.007725  \n",
       "CAR_AGE     -0.007725  1.000000  "
      ]
     },
     "execution_count": 73,
     "metadata": {},
     "output_type": "execute_result"
    }
   ],
   "source": [
    "corr_df"
   ]
  },
  {
   "cell_type": "code",
   "execution_count": 74,
   "metadata": {
    "colab": {
     "base_uri": "https://localhost:8080/",
     "height": 854
    },
    "id": "z3E8CclpKYxw",
    "outputId": "0f0077b4-3010-444b-bff4-073a07668ee1"
   },
   "outputs": [
    {
     "data": {
      "image/png": "[encoded data removed]",
      "text/plain": [
       "<Figure size 1080x1080 with 2 Axes>"
      ]
     },
     "metadata": {
      "needs_background": "light"
     },
     "output_type": "display_data"
    }
   ],
   "source": [
    "f = plt.figure(figsize=(15, 15))\n",
    "plt.imshow(corr_df)\n",
    "plt.colorbar()\n",
    "plt.xticks(range(len(corr_df.columns)), corr_df.columns, rotation=90)\n",
    "_ = plt.yticks(range(len(corr_df.columns)), corr_df.columns)"
   ]
  },
  {
   "cell_type": "markdown",
   "metadata": {
    "id": "2Ape4MaJBZIt"
   },
   "source": [
    "**'TARGET_FLAG' is positively correlated with 'OLDCLAIM', 'CLM_FREQ' and 'MVR_PTS'.**\n",
    "\n",
    "-'OLDCLAIM' is the total claims in the past 5 years. That means that when a person has a high total payout \n",
    "over past five years, it is very likely to have a car crash.\n",
    "\n",
    "-'OLDCLAIM' and 'CLM_FREQ' are highly correlated. \n",
    "\n",
    "-'MVR_PTS' means the motor vehicle record points. The correlation shows that a driver with lots of traffic tickets tend to \n",
    "get into more crashes.\n",
    "\n",
    "**'TARGET_FLAG' is negatively correlated with 'AGE', 'HOME_VAL','INCOME'.**\n",
    "\n",
    "This means that:\n",
    "\n",
    "-Very young people are more risky.\n",
    "\n",
    "-People who have high home value (home owners) tend to drive more responsibly.\n",
    "\n",
    "-Rich people have less crashes\n",
    "\n",
    "\n",
    "\n",
    "\n",
    "\n"
   ]
  },
  {
   "cell_type": "code",
   "execution_count": 75,
   "metadata": {
    "id": "fBzTf9bpKYxw"
   },
   "outputs": [],
   "source": [
    "#numerical variables\n",
    "numeric_variables = ['KIDSDRIV', 'AGE', 'HOMEKIDS', 'YOJ','INCOME','HOME_VAL','TRAVTIME','BLUEBOOK','TIF'\n",
    "                    ,'OLDCLAIM','CLM_FREQ','MVR_PTS','CAR_AGE']"
   ]
  },
  {
   "cell_type": "code",
   "execution_count": 76,
   "metadata": {
    "id": "B_-f4kZtKYxw"
   },
   "outputs": [],
   "source": [
    "#categorical variables\n",
    "categorical_variables = [\n",
    "        'PARENT1', 'MSTATUS', 'SEX', 'EDUCATION', 'JOB',\n",
    "        'CAR_USE', 'CAR_TYPE', 'RED_CAR',\n",
    "        'REVOKED', 'URBANICITY']"
   ]
  },
  {
   "cell_type": "code",
   "execution_count": 77,
   "metadata": {
    "id": "kfu6yDuxKYxx"
   },
   "outputs": [],
   "source": [
    "# separate independant variables and dependant variable\n",
    "X = df_train.drop('TARGET_FLAG', axis=1)\n",
    "y = df_train['TARGET_FLAG']"
   ]
  },
  {
   "cell_type": "markdown",
   "metadata": {
    "id": "PA06okxDKYxx"
   },
   "source": [
    "## Data preprocessing and Modeling"
   ]
  },
  {
   "cell_type": "markdown",
   "metadata": {
    "id": "_HqzOh5mBZIv"
   },
   "source": [
    "Since it is a classification problem, I chose to train without and then with PCA the following models:\n",
    "    \n",
    "-Logistic Regression\n",
    "\n",
    "-Support Vector Classifier\n",
    "\n",
    "-Decision Tree\n",
    "\n",
    "-Random Forest\n",
    "\n",
    "-Gaussian Naive Bayes\n",
    "\n",
    "-XGBOOST\n",
    "\n",
    "-AdaBoost\n",
    "\n",
    "For Decision Tree Classifier and Ada Boost Classifier classifiers, I used Grid-search to find the optimal hyperparameters.\n",
    "                                                                      \n",
    "I will keep the model with the best value of metric for the test phase. Concerning the metric, I choose the F1-score.\n",
    "Because at the same time, I am interested in having a good recall and precision. Indeed, I want to predict high number of car crashes among actual car crashes (this is the recall), and then when I predict that a person will \n",
    "have a car crash, I want to be right (this is the precision)."
   ]
  },
  {
   "cell_type": "code",
   "execution_count": 78,
   "metadata": {
    "id": "_ZieKU_cKYxx"
   },
   "outputs": [],
   "source": [
    "np.random.seed(0)\n",
    "\n",
    "# Setting up Data Transformation Pipeline for numerical and categorical attributes:\n",
    "#One-hot encoding for categorical attributes.\n",
    "#Imputing Missing Values — using the SimpleImputer class.\n",
    "#Standard Scaling of each Attribute — using the standardScaler class.\n",
    "\n",
    "\n",
    "\n",
    "numeric_transformer = Pipeline(steps=[\n",
    "    ('imputer', SimpleImputer(strategy='median')),\n",
    "    ('scaler', StandardScaler())])\n",
    "\n",
    "\n",
    "categorical_transformer = OneHotEncoder(handle_unknown='ignore')\n",
    "\n",
    "preprocessor = ColumnTransformer(\n",
    "    transformers=[\n",
    "        ('num', numeric_transformer, numeric_variables),\n",
    "        ('cat', categorical_transformer, categorical_variables)])"
   ]
  },
  {
   "cell_type": "code",
   "execution_count": 79,
   "metadata": {
    "id": "A-POQX4Hcv6Q"
   },
   "outputs": [],
   "source": [
    "def score_classifier(dataset,classifier,labels):\n",
    "\n",
    "    \"\"\"\n",
    "    performs 3 random trainings/tests to build a confusion matrix and prints results with precision and recall scores\n",
    "    :param dataset: the dataset to work on\n",
    "    :param classifier: the classifier to use\n",
    "    :param labels: the labels used for training and validation\n",
    "    :return:\n",
    "    \"\"\"\n",
    "    pipeline = Pipeline(steps=[(\"preprocessor\", preprocessor), (\"classifier\", classifier)])\n",
    "\n",
    "    kf = KFold(n_splits=3,random_state=50,shuffle=True)\n",
    "    confusion_mat = np.zeros((2,2))\n",
    "    acc = 0 \n",
    "    recall = 0\n",
    "    precision = 0\n",
    "    f1 = 0 \n",
    "\n",
    "    for training_ids,test_ids in kf.split(dataset):\n",
    "        \n",
    "        training_set = dataset.iloc[training_ids]\n",
    "        training_labels = labels.iloc[training_ids]\n",
    "        test_set = dataset.iloc[test_ids]\n",
    "        test_labels = labels.iloc[test_ids]\n",
    "        pipeline.fit(training_set,training_labels)\n",
    "        predicted_labels = pipeline.predict(test_set)\n",
    "        confusion_mat+=confusion_matrix(test_labels,predicted_labels)\n",
    "        recall += recall_score(test_labels, predicted_labels)\n",
    "        precision += precision_score(test_labels, predicted_labels)\n",
    "        f1 += f1_score(test_labels, predicted_labels)\n",
    "        acc += accuracy_score(test_labels,predicted_labels)\n",
    "\n",
    "    acc /= 3\n",
    "    recall/=3\n",
    "    precision /=3\n",
    "    f1 /= 3\n",
    "    return {'test_accuracy':acc,'test_precision': precision,'test_recall':recall,'test_f1_score':f1}\n",
    "\n"
   ]
  },
  {
   "cell_type": "markdown",
   "metadata": {
    "id": "zPC7uwLlC_RK"
   },
   "source": [
    "## Instantiate the machine learning classifiers"
   ]
  },
  {
   "cell_type": "code",
   "execution_count": 80,
   "metadata": {
    "id": "o3HChP37B6x6"
   },
   "outputs": [],
   "source": [
    "\n",
    "log_model = LogisticRegression(max_iter=10000)\n",
    "svc_model = LinearSVC(dual=False)\n",
    "dtr_model = DecisionTreeClassifier()\n",
    "rfc_model = RandomForestClassifier()\n",
    "gnb_model = GaussianNB()\n",
    "xgb_model = xgb.XGBClassifier()\n",
    "adb_model = AdaBoostClassifier()"
   ]
  },
  {
   "cell_type": "markdown",
   "metadata": {
    "id": "sW-U2DFqCOg-"
   },
   "source": [
    "## Grid Search of Best HyperParameters for some classifiers"
   ]
  },
  {
   "cell_type": "code",
   "execution_count": 81,
   "metadata": {
    "id": "qmSrYu5-C3tU"
   },
   "outputs": [],
   "source": [
    "X_grid_search = preprocessor.fit_transform(X)"
   ]
  },
  {
   "cell_type": "code",
   "execution_count": 82,
   "metadata": {
    "colab": {
     "base_uri": "https://localhost:8080/"
    },
    "id": "UiwzZiVAGfV_",
    "outputId": "97d0939a-4af5-4635-a34b-ae6f7941d03d"
   },
   "outputs": [
    {
     "name": "stdout",
     "output_type": "stream",
     "text": [
      "Fitting 5 folds for each of 6 candidates, totalling 30 fits\n"
     ]
    }
   ],
   "source": [
    "### Grid Search for DecisionTreeClassifier\n",
    "param_test = {\n",
    "  'splitter' :['best', 'random'],\n",
    "   'min_samples_split':[2,3,4],\n",
    "\n",
    " }\n",
    "gsearch = GridSearchCV(estimator = DecisionTreeClassifier(),\n",
    "                        param_grid = param_test, cv=5,verbose=1)\n",
    "gsearch.fit(X_grid_search,y)\n",
    "splitter = gsearch.best_params_['splitter']\n",
    "min_samples_split = gsearch.best_params_['min_samples_split']\n"
   ]
  },
  {
   "cell_type": "code",
   "execution_count": 83,
   "metadata": {
    "colab": {
     "base_uri": "https://localhost:8080/"
    },
    "id": "DTAIV52cG8Yb",
    "outputId": "edd8740c-1c08-40b7-a5e2-b2bcf929dbd5"
   },
   "outputs": [
    {
     "name": "stdout",
     "output_type": "stream",
     "text": [
      "splitter random\n",
      "min_samples_split 3\n"
     ]
    }
   ],
   "source": [
    "print('splitter '+str(splitter))\n",
    "print('min_samples_split '+str(min_samples_split))\n",
    "\n",
    "dtr_model = DecisionTreeClassifier(splitter=splitter,min_samples_split=min_samples_split)"
   ]
  },
  {
   "cell_type": "code",
   "execution_count": 84,
   "metadata": {
    "colab": {
     "base_uri": "https://localhost:8080/"
    },
    "id": "HaSlQ4duCOQj",
    "outputId": "159c3094-c904-4a8f-82ef-4f02e82cea9f"
   },
   "outputs": [
    {
     "name": "stdout",
     "output_type": "stream",
     "text": [
      "Fitting 5 folds for each of 12 candidates, totalling 60 fits\n"
     ]
    }
   ],
   "source": [
    "### Grid Search for AdaBoostClassifier\n",
    "param_test = {\n",
    "  'n_estimators':[50,100,200,300],\n",
    "   'learning_rate':[0.1,0.5,1]\n",
    " }\n",
    "gsearch = GridSearchCV(estimator = AdaBoostClassifier(),\n",
    "                        param_grid = param_test, cv=5,verbose=1)\n",
    "gsearch.fit(X_grid_search,y)\n",
    "n_estimators = gsearch.best_params_['n_estimators']\n",
    "learning_rate = gsearch.best_params_['learning_rate']\n"
   ]
  },
  {
   "cell_type": "code",
   "execution_count": 85,
   "metadata": {
    "colab": {
     "base_uri": "https://localhost:8080/"
    },
    "id": "nmrVIho0DV9y",
    "outputId": "23f08533-bf02-410e-b67d-ed680b3072b5"
   },
   "outputs": [
    {
     "name": "stdout",
     "output_type": "stream",
     "text": [
      "n_estimators 100\n",
      "learning_rate 0.5\n"
     ]
    }
   ],
   "source": [
    "print('n_estimators '+str(n_estimators))\n",
    "print('learning_rate '+str(learning_rate))\n",
    "\n",
    "adb_model = AdaBoostClassifier(n_estimators=n_estimators,learning_rate=learning_rate)\n"
   ]
  },
  {
   "cell_type": "markdown",
   "metadata": {
    "id": "mgyKVeidCnlw"
   },
   "source": [
    "## Evaluation of different models"
   ]
  },
  {
   "cell_type": "code",
   "execution_count": 86,
   "metadata": {
    "colab": {
     "base_uri": "https://localhost:8080/",
     "height": 175
    },
    "id": "DaOUJ44LKYxz",
    "outputId": "5a9e88d9-961a-430c-ea20-bb88398ae9e8"
   },
   "outputs": [
    {
     "name": "stderr",
     "output_type": "stream",
     "text": [
      "/Library/Frameworks/Python.framework/Versions/3.8/lib/python3.8/site-packages/xgboost/sklearn.py:1224: UserWarning: The use of label encoder in XGBClassifier is deprecated and will be removed in a future release. To remove this warning, do the following: 1) Pass option use_label_encoder=False when constructing XGBClassifier object; and 2) Encode your labels (y) as integers starting with 0, i.e. 0, 1, 2, ..., [num_class - 1].\n",
      "  warnings.warn(label_encoder_deprecation_msg, UserWarning)\n"
     ]
    },
    {
     "name": "stdout",
     "output_type": "stream",
     "text": [
      "[10:30:54] WARNING: /private/var/folders/9n/wjhmx_7s1cg4ywb7y1p_6cxw0000gn/T/pip-install-z573l4kp/xgboost/build/temp.macosx-10.9-x86_64-3.8/xgboost/src/learner.cc:1115: Starting in XGBoost 1.3.0, the default evaluation metric used with the objective 'binary:logistic' was changed from 'error' to 'logloss'. Explicitly set eval_metric if you'd like to restore the old behavior.\n"
     ]
    },
    {
     "name": "stderr",
     "output_type": "stream",
     "text": [
      "/Library/Frameworks/Python.framework/Versions/3.8/lib/python3.8/site-packages/xgboost/sklearn.py:1224: UserWarning: The use of label encoder in XGBClassifier is deprecated and will be removed in a future release. To remove this warning, do the following: 1) Pass option use_label_encoder=False when constructing XGBClassifier object; and 2) Encode your labels (y) as integers starting with 0, i.e. 0, 1, 2, ..., [num_class - 1].\n",
      "  warnings.warn(label_encoder_deprecation_msg, UserWarning)\n"
     ]
    },
    {
     "name": "stdout",
     "output_type": "stream",
     "text": [
      "[10:30:56] WARNING: /private/var/folders/9n/wjhmx_7s1cg4ywb7y1p_6cxw0000gn/T/pip-install-z573l4kp/xgboost/build/temp.macosx-10.9-x86_64-3.8/xgboost/src/learner.cc:1115: Starting in XGBoost 1.3.0, the default evaluation metric used with the objective 'binary:logistic' was changed from 'error' to 'logloss'. Explicitly set eval_metric if you'd like to restore the old behavior.\n"
     ]
    },
    {
     "name": "stderr",
     "output_type": "stream",
     "text": [
      "/Library/Frameworks/Python.framework/Versions/3.8/lib/python3.8/site-packages/xgboost/sklearn.py:1224: UserWarning: The use of label encoder in XGBClassifier is deprecated and will be removed in a future release. To remove this warning, do the following: 1) Pass option use_label_encoder=False when constructing XGBClassifier object; and 2) Encode your labels (y) as integers starting with 0, i.e. 0, 1, 2, ..., [num_class - 1].\n",
      "  warnings.warn(label_encoder_deprecation_msg, UserWarning)\n"
     ]
    },
    {
     "name": "stdout",
     "output_type": "stream",
     "text": [
      "[10:30:58] WARNING: /private/var/folders/9n/wjhmx_7s1cg4ywb7y1p_6cxw0000gn/T/pip-install-z573l4kp/xgboost/build/temp.macosx-10.9-x86_64-3.8/xgboost/src/learner.cc:1115: Starting in XGBoost 1.3.0, the default evaluation metric used with the objective 'binary:logistic' was changed from 'error' to 'logloss'. Explicitly set eval_metric if you'd like to restore the old behavior.\n"
     ]
    },
    {
     "data": {
      "text/html": [
       "<div>\n",
       "<style scoped>\n",
       "    .dataframe tbody tr th:only-of-type {\n",
       "        vertical-align: middle;\n",
       "    }\n",
       "\n",
       "    .dataframe tbody tr th {\n",
       "        vertical-align: top;\n",
       "    }\n",
       "\n",
       "    .dataframe thead th {\n",
       "        text-align: right;\n",
       "    }\n",
       "</style>\n",
       "<table border=\"1\" class=\"dataframe\">\n",
       "  <thead>\n",
       "    <tr style=\"text-align: right;\">\n",
       "      <th></th>\n",
       "      <th>Logistic Regression</th>\n",
       "      <th>Support Vector Classifier</th>\n",
       "      <th>Decision Tree</th>\n",
       "      <th>Random Forest</th>\n",
       "      <th>Gaussian Naive Bayes</th>\n",
       "      <th>XGBOOST</th>\n",
       "      <th>AdaBoost</th>\n",
       "      <th>Best Score</th>\n",
       "    </tr>\n",
       "  </thead>\n",
       "  <tbody>\n",
       "    <tr>\n",
       "      <th>Accuracy</th>\n",
       "      <td>0.790564</td>\n",
       "      <td>0.789828</td>\n",
       "      <td>0.707108</td>\n",
       "      <td>0.788971</td>\n",
       "      <td>0.727328</td>\n",
       "      <td>0.782598</td>\n",
       "      <td>0.791422</td>\n",
       "      <td>AdaBoost</td>\n",
       "    </tr>\n",
       "    <tr>\n",
       "      <th>Precision</th>\n",
       "      <td>0.662504</td>\n",
       "      <td>0.672433</td>\n",
       "      <td>0.442225</td>\n",
       "      <td>0.677519</td>\n",
       "      <td>0.487700</td>\n",
       "      <td>0.618095</td>\n",
       "      <td>0.673692</td>\n",
       "      <td>Random Forest</td>\n",
       "    </tr>\n",
       "    <tr>\n",
       "      <th>Recall</th>\n",
       "      <td>0.419457</td>\n",
       "      <td>0.396367</td>\n",
       "      <td>0.423160</td>\n",
       "      <td>0.382400</td>\n",
       "      <td>0.678283</td>\n",
       "      <td>0.463127</td>\n",
       "      <td>0.407079</td>\n",
       "      <td>Gaussian Naive Bayes</td>\n",
       "    </tr>\n",
       "    <tr>\n",
       "      <th>F1 Score</th>\n",
       "      <td>0.513338</td>\n",
       "      <td>0.498409</td>\n",
       "      <td>0.432405</td>\n",
       "      <td>0.488448</td>\n",
       "      <td>0.567403</td>\n",
       "      <td>0.528883</td>\n",
       "      <td>0.506935</td>\n",
       "      <td>Gaussian Naive Bayes</td>\n",
       "    </tr>\n",
       "  </tbody>\n",
       "</table>\n",
       "</div>"
      ],
      "text/plain": [
       "           Logistic Regression  Support Vector Classifier  Decision Tree  \\\n",
       "Accuracy              0.790564                   0.789828       0.707108   \n",
       "Precision             0.662504                   0.672433       0.442225   \n",
       "Recall                0.419457                   0.396367       0.423160   \n",
       "F1 Score              0.513338                   0.498409       0.432405   \n",
       "\n",
       "           Random Forest  Gaussian Naive Bayes   XGBOOST  AdaBoost  \\\n",
       "Accuracy        0.788971              0.727328  0.782598  0.791422   \n",
       "Precision       0.677519              0.487700  0.618095  0.673692   \n",
       "Recall          0.382400              0.678283  0.463127  0.407079   \n",
       "F1 Score        0.488448              0.567403  0.528883  0.506935   \n",
       "\n",
       "                     Best Score  \n",
       "Accuracy               AdaBoost  \n",
       "Precision         Random Forest  \n",
       "Recall     Gaussian Naive Bayes  \n",
       "F1 Score   Gaussian Naive Bayes  "
      ]
     },
     "execution_count": 86,
     "metadata": {},
     "output_type": "execute_result"
    }
   ],
   "source": [
    "# Define the models evaluation function\n",
    "def models_evaluation(X, y):\n",
    "    \n",
    "    '''\n",
    "    X : data set features\n",
    "    y : data set target\n",
    "    \n",
    "    '''\n",
    "    \n",
    "    # Perform cross-validation to each machine learning classifier\n",
    "    log = score_classifier(X, log_model, y)\n",
    "    svc = score_classifier(X, svc_model, y)\n",
    "    dtr = score_classifier(X, dtr_model, y)\n",
    "    rfc = score_classifier(X, rfc_model, y)\n",
    "    gnb = score_classifier(X, gnb_model, y)\n",
    "    gbc = score_classifier(X, xgb_model, y)\n",
    "    adb = score_classifier(X, adb_model, y)\n",
    "    # Create a data frame with the models perfoamnce metrics scores\n",
    "    models_scores_table = pd.DataFrame({'Logistic Regression':[log['test_accuracy'],\n",
    "                                                               log['test_precision'],\n",
    "                                                               log['test_recall'],\n",
    "                                                               log['test_f1_score']],\n",
    "                                       \n",
    "                                      'Support Vector Classifier':[svc['test_accuracy'],\n",
    "                                                                   svc['test_precision'],\n",
    "                                                                   svc['test_recall'],\n",
    "                                                                   svc['test_f1_score']],\n",
    "                                       \n",
    "                                      'Decision Tree':[dtr['test_accuracy'],\n",
    "                                                       dtr['test_precision'],\n",
    "                                                       dtr['test_recall'],\n",
    "                                                       dtr['test_f1_score']],\n",
    "                                       \n",
    "                                      'Random Forest':[rfc['test_accuracy'],\n",
    "                                                       rfc['test_precision'],\n",
    "                                                       rfc['test_recall'],\n",
    "                                                       rfc['test_f1_score']],\n",
    "                                       \n",
    "                                      'Gaussian Naive Bayes':[gnb['test_accuracy'],\n",
    "                                                              gnb['test_precision'],\n",
    "                                                              gnb['test_recall'],\n",
    "                                                              gnb['test_f1_score']],\n",
    "                                      'XGBOOST':[gbc['test_accuracy'],\n",
    "                                                              gbc['test_precision'],\n",
    "                                                              gbc['test_recall'],\n",
    "                                                              gbc['test_f1_score']],\n",
    "                                      'AdaBoost':[adb['test_accuracy'],\n",
    "                                                              adb['test_precision'],\n",
    "                                                              adb['test_recall'],\n",
    "                                                              adb['test_f1_score']]},\n",
    "                                      \n",
    "                                      index=['Accuracy', 'Precision', 'Recall', 'F1 Score'])\n",
    "    \n",
    "    # Add 'Best Score' column\n",
    "    models_scores_table['Best Score'] = models_scores_table.idxmax(axis=1)\n",
    "    \n",
    "    # Return models performance metrics scores data frame\n",
    "    return(models_scores_table)\n",
    "  \n",
    "# Run models_evaluation function\n",
    "models_evaluation(X, y)"
   ]
  },
  {
   "cell_type": "markdown",
   "metadata": {
    "id": "M99AwWioF9kC"
   },
   "source": [
    "## Evaluate different classifier by using principal componenents as input"
   ]
  },
  {
   "cell_type": "code",
   "execution_count": 87,
   "metadata": {
    "id": "QXltnVwYGEpM"
   },
   "outputs": [],
   "source": [
    "pca = PCA(n_components=20, svd_solver='randomized',\n",
    "                                whiten=True)\n",
    "X_pca = pca.fit_transform(X_grid_search)"
   ]
  },
  {
   "cell_type": "code",
   "execution_count": 88,
   "metadata": {
    "colab": {
     "base_uri": "https://localhost:8080/",
     "height": 313
    },
    "id": "Bkt_ci-mIIor",
    "outputId": "7ab032bb-8ee6-4522-80f0-062b87134aa4"
   },
   "outputs": [
    {
     "data": {
      "text/plain": [
       "Text(0.5, 1.0, 'Cumulative sum of the explained variance ration as function of number of components ')"
      ]
     },
     "execution_count": 88,
     "metadata": {},
     "output_type": "execute_result"
    },
    {
     "data": {
      "image/png": "[encoded data removed]",
      "text/plain": [
       "<Figure size 432x288 with 1 Axes>"
      ]
     },
     "metadata": {
      "needs_background": "light"
     },
     "output_type": "display_data"
    }
   ],
   "source": [
    "plt.plot(range(20),np.cumsum(pca.explained_variance_ratio_))\n",
    "plt.xlabel('Number of components')\n",
    "plt.ylabel('Cumulative sum of the explained variance ration')\n",
    "plt.title('Cumulative sum of the explained variance ration as function of number of components ')"
   ]
  },
  {
   "cell_type": "markdown",
   "metadata": {
    "id": "KgNEVJ1HJLba"
   },
   "source": [
    "We decide to use 10 components, because they explain more than 70% of the variance."
   ]
  },
  {
   "cell_type": "code",
   "execution_count": 89,
   "metadata": {
    "id": "Ug3s2aO5wE4a"
   },
   "outputs": [],
   "source": [
    "# classifiers with PCA\n",
    "def score_classifier_with_pca(dataset,classifier,labels):\n",
    "\n",
    "    \"\"\"\n",
    "    performs 3 random trainings/tests to build a confusion matrix and prints results with precision and recall scores\n",
    "    :param dataset: the dataset to work on\n",
    "    :param classifier: the classifier to use\n",
    "    :param labels: the labels used for training and validation\n",
    "    :return:\n",
    "    \"\"\"\n",
    "    pipeline = Pipeline(steps=[(\"preprocessor\", preprocessor),\n",
    "                               ('PCA',PCA(n_components=10, svd_solver='randomized',\n",
    "                                whiten=True)) ,\n",
    "                                (\"classifier\", classifier)])\n",
    "\n",
    "    kf = KFold(n_splits=3,random_state=50,shuffle=True)\n",
    "    confusion_mat = np.zeros((2,2))\n",
    "    acc = 0 \n",
    "    recall = 0\n",
    "    precision = 0\n",
    "    f1 = 0 \n",
    "\n",
    "    for training_ids,test_ids in kf.split(dataset):\n",
    "        training_set = dataset.iloc[training_ids]\n",
    "        training_labels = labels.iloc[training_ids]\n",
    "        test_set = dataset.iloc[test_ids]\n",
    "        test_labels = labels.iloc[test_ids]\n",
    "        pipeline.fit(training_set,training_labels)\n",
    "        predicted_labels = pipeline.predict(test_set)\n",
    "        confusion_mat+=confusion_matrix(test_labels,predicted_labels)\n",
    "        recall += recall_score(test_labels, predicted_labels)\n",
    "        precision += precision_score(test_labels, predicted_labels)\n",
    "        f1 += f1_score(test_labels, predicted_labels)\n",
    "        acc += accuracy_score(test_labels,predicted_labels)\n",
    "\n",
    "    acc /= 3\n",
    "    recall/=3\n",
    "    precision /=3\n",
    "    f1 /= 3\n",
    "    return {'test_accuracy':acc,'test_precision': precision,'test_recall':recall,'test_f1_score':f1}\n"
   ]
  },
  {
   "cell_type": "code",
   "execution_count": 90,
   "metadata": {
    "colab": {
     "base_uri": "https://localhost:8080/",
     "height": 175
    },
    "id": "AR7A4ml4wjh7",
    "outputId": "36dd0d55-04c1-4e53-a4b7-053e210c64ba"
   },
   "outputs": [
    {
     "name": "stderr",
     "output_type": "stream",
     "text": [
      "/Library/Frameworks/Python.framework/Versions/3.8/lib/python3.8/site-packages/xgboost/sklearn.py:1224: UserWarning: The use of label encoder in XGBClassifier is deprecated and will be removed in a future release. To remove this warning, do the following: 1) Pass option use_label_encoder=False when constructing XGBClassifier object; and 2) Encode your labels (y) as integers starting with 0, i.e. 0, 1, 2, ..., [num_class - 1].\n",
      "  warnings.warn(label_encoder_deprecation_msg, UserWarning)\n"
     ]
    },
    {
     "name": "stdout",
     "output_type": "stream",
     "text": [
      "[10:31:08] WARNING: /private/var/folders/9n/wjhmx_7s1cg4ywb7y1p_6cxw0000gn/T/pip-install-z573l4kp/xgboost/build/temp.macosx-10.9-x86_64-3.8/xgboost/src/learner.cc:1115: Starting in XGBoost 1.3.0, the default evaluation metric used with the objective 'binary:logistic' was changed from 'error' to 'logloss'. Explicitly set eval_metric if you'd like to restore the old behavior.\n"
     ]
    },
    {
     "name": "stderr",
     "output_type": "stream",
     "text": [
      "/Library/Frameworks/Python.framework/Versions/3.8/lib/python3.8/site-packages/xgboost/sklearn.py:1224: UserWarning: The use of label encoder in XGBClassifier is deprecated and will be removed in a future release. To remove this warning, do the following: 1) Pass option use_label_encoder=False when constructing XGBClassifier object; and 2) Encode your labels (y) as integers starting with 0, i.e. 0, 1, 2, ..., [num_class - 1].\n",
      "  warnings.warn(label_encoder_deprecation_msg, UserWarning)\n"
     ]
    },
    {
     "name": "stdout",
     "output_type": "stream",
     "text": [
      "[10:31:09] WARNING: /private/var/folders/9n/wjhmx_7s1cg4ywb7y1p_6cxw0000gn/T/pip-install-z573l4kp/xgboost/build/temp.macosx-10.9-x86_64-3.8/xgboost/src/learner.cc:1115: Starting in XGBoost 1.3.0, the default evaluation metric used with the objective 'binary:logistic' was changed from 'error' to 'logloss'. Explicitly set eval_metric if you'd like to restore the old behavior.\n"
     ]
    },
    {
     "name": "stderr",
     "output_type": "stream",
     "text": [
      "/Library/Frameworks/Python.framework/Versions/3.8/lib/python3.8/site-packages/xgboost/sklearn.py:1224: UserWarning: The use of label encoder in XGBClassifier is deprecated and will be removed in a future release. To remove this warning, do the following: 1) Pass option use_label_encoder=False when constructing XGBClassifier object; and 2) Encode your labels (y) as integers starting with 0, i.e. 0, 1, 2, ..., [num_class - 1].\n",
      "  warnings.warn(label_encoder_deprecation_msg, UserWarning)\n"
     ]
    },
    {
     "name": "stdout",
     "output_type": "stream",
     "text": [
      "[10:31:11] WARNING: /private/var/folders/9n/wjhmx_7s1cg4ywb7y1p_6cxw0000gn/T/pip-install-z573l4kp/xgboost/build/temp.macosx-10.9-x86_64-3.8/xgboost/src/learner.cc:1115: Starting in XGBoost 1.3.0, the default evaluation metric used with the objective 'binary:logistic' was changed from 'error' to 'logloss'. Explicitly set eval_metric if you'd like to restore the old behavior.\n"
     ]
    },
    {
     "data": {
      "text/html": [
       "<div>\n",
       "<style scoped>\n",
       "    .dataframe tbody tr th:only-of-type {\n",
       "        vertical-align: middle;\n",
       "    }\n",
       "\n",
       "    .dataframe tbody tr th {\n",
       "        vertical-align: top;\n",
       "    }\n",
       "\n",
       "    .dataframe thead th {\n",
       "        text-align: right;\n",
       "    }\n",
       "</style>\n",
       "<table border=\"1\" class=\"dataframe\">\n",
       "  <thead>\n",
       "    <tr style=\"text-align: right;\">\n",
       "      <th></th>\n",
       "      <th>Logistic Regression</th>\n",
       "      <th>Support Vector Classifier</th>\n",
       "      <th>Decision Tree</th>\n",
       "      <th>Random Forest</th>\n",
       "      <th>Gaussian Naive Bayes</th>\n",
       "      <th>XGBOOST</th>\n",
       "      <th>AdaBoost</th>\n",
       "      <th>Best Score</th>\n",
       "    </tr>\n",
       "  </thead>\n",
       "  <tbody>\n",
       "    <tr>\n",
       "      <th>Accuracy</th>\n",
       "      <td>0.747549</td>\n",
       "      <td>0.743873</td>\n",
       "      <td>0.672181</td>\n",
       "      <td>0.756618</td>\n",
       "      <td>0.735662</td>\n",
       "      <td>0.738235</td>\n",
       "      <td>0.746936</td>\n",
       "      <td>Random Forest</td>\n",
       "    </tr>\n",
       "    <tr>\n",
       "      <th>Precision</th>\n",
       "      <td>0.562472</td>\n",
       "      <td>0.552625</td>\n",
       "      <td>0.385584</td>\n",
       "      <td>0.581822</td>\n",
       "      <td>0.498589</td>\n",
       "      <td>0.506351</td>\n",
       "      <td>0.539605</td>\n",
       "      <td>Random Forest</td>\n",
       "    </tr>\n",
       "    <tr>\n",
       "      <th>Recall</th>\n",
       "      <td>0.197641</td>\n",
       "      <td>0.163641</td>\n",
       "      <td>0.406006</td>\n",
       "      <td>0.274895</td>\n",
       "      <td>0.256620</td>\n",
       "      <td>0.306254</td>\n",
       "      <td>0.280493</td>\n",
       "      <td>Decision Tree</td>\n",
       "    </tr>\n",
       "    <tr>\n",
       "      <th>F1 Score</th>\n",
       "      <td>0.292166</td>\n",
       "      <td>0.252086</td>\n",
       "      <td>0.395310</td>\n",
       "      <td>0.373304</td>\n",
       "      <td>0.338669</td>\n",
       "      <td>0.381246</td>\n",
       "      <td>0.368685</td>\n",
       "      <td>Decision Tree</td>\n",
       "    </tr>\n",
       "  </tbody>\n",
       "</table>\n",
       "</div>"
      ],
      "text/plain": [
       "           Logistic Regression  Support Vector Classifier  Decision Tree  \\\n",
       "Accuracy              0.747549                   0.743873       0.672181   \n",
       "Precision             0.562472                   0.552625       0.385584   \n",
       "Recall                0.197641                   0.163641       0.406006   \n",
       "F1 Score              0.292166                   0.252086       0.395310   \n",
       "\n",
       "           Random Forest  Gaussian Naive Bayes   XGBOOST  AdaBoost  \\\n",
       "Accuracy        0.756618              0.735662  0.738235  0.746936   \n",
       "Precision       0.581822              0.498589  0.506351  0.539605   \n",
       "Recall          0.274895              0.256620  0.306254  0.280493   \n",
       "F1 Score        0.373304              0.338669  0.381246  0.368685   \n",
       "\n",
       "              Best Score  \n",
       "Accuracy   Random Forest  \n",
       "Precision  Random Forest  \n",
       "Recall     Decision Tree  \n",
       "F1 Score   Decision Tree  "
      ]
     },
     "execution_count": 90,
     "metadata": {},
     "output_type": "execute_result"
    }
   ],
   "source": [
    "# Instantiate the machine learning classifiers\n",
    "log_model = LogisticRegression(max_iter=10000)\n",
    "svc_model = LinearSVC(dual=False)\n",
    "dtr_model = DecisionTreeClassifier()\n",
    "rfc_model = RandomForestClassifier()\n",
    "gnb_model = GaussianNB()\n",
    "xgb_model = xgb.XGBClassifier()\n",
    "adb_model = AdaBoostClassifier()\n",
    "# Define the models evaluation function\n",
    "def models_evaluation_with_pca(X, y):\n",
    "    \n",
    "    '''\n",
    "    X : data set features\n",
    "    y : data set target\n",
    "    folds : number of cross-validation folds\n",
    "    \n",
    "    '''\n",
    "    \n",
    "    # Perform cross-validation to each machine learning classifier\n",
    "    log = score_classifier_with_pca(X, log_model, y)\n",
    "    svc = score_classifier_with_pca(X, svc_model, y)\n",
    "    dtr = score_classifier_with_pca(X, dtr_model, y)\n",
    "    rfc = score_classifier_with_pca(X, rfc_model, y)\n",
    "    gnb = score_classifier_with_pca(X, gnb_model, y)\n",
    "    gbc = score_classifier_with_pca(X, xgb_model, y)\n",
    "    adb = score_classifier_with_pca(X, adb_model, y)\n",
    "    # Create a data frame with the models perfoamnce metrics scores\n",
    "    models_scores_table = pd.DataFrame({'Logistic Regression':[log['test_accuracy'],\n",
    "                                                               log['test_precision'],\n",
    "                                                               log['test_recall'],\n",
    "                                                               log['test_f1_score']],\n",
    "                                       \n",
    "                                      'Support Vector Classifier':[svc['test_accuracy'],\n",
    "                                                                   svc['test_precision'],\n",
    "                                                                   svc['test_recall'],\n",
    "                                                                   svc['test_f1_score']],\n",
    "                                       \n",
    "                                      'Decision Tree':[dtr['test_accuracy'],\n",
    "                                                       dtr['test_precision'],\n",
    "                                                       dtr['test_recall'],\n",
    "                                                       dtr['test_f1_score']],\n",
    "                                       \n",
    "                                      'Random Forest':[rfc['test_accuracy'],\n",
    "                                                       rfc['test_precision'],\n",
    "                                                       rfc['test_recall'],\n",
    "                                                       rfc['test_f1_score']],\n",
    "                                       \n",
    "                                      'Gaussian Naive Bayes':[gnb['test_accuracy'],\n",
    "                                                              gnb['test_precision'],\n",
    "                                                              gnb['test_recall'],\n",
    "                                                              gnb['test_f1_score']],\n",
    "                                      'XGBOOST':[gbc['test_accuracy'],\n",
    "                                                              gbc['test_precision'],\n",
    "                                                              gbc['test_recall'],\n",
    "                                                              gbc['test_f1_score']],\n",
    "                                      'AdaBoost':[adb['test_accuracy'],\n",
    "                                                              adb['test_precision'],\n",
    "                                                              adb['test_recall'],\n",
    "                                                              adb['test_f1_score']]},\n",
    "                                      \n",
    "                                      index=['Accuracy', 'Precision', 'Recall', 'F1 Score'])\n",
    "    \n",
    "    # Add 'Best Score' column\n",
    "    models_scores_table['Best Score'] = models_scores_table.idxmax(axis=1)\n",
    "    \n",
    "    # Return models performance metrics scores data frame\n",
    "    return(models_scores_table)\n",
    "\n",
    "\n",
    "# Run models_evaluation function\n",
    "models_evaluation_with_pca(X, y)"
   ]
  },
  {
   "cell_type": "markdown",
   "metadata": {
    "id": "Rq41CMDzJwtC"
   },
   "source": [
    " It is clear that using PCA does not improve our classifiers' performance, which could be explained by the fact that pca does not catch non-linearities between features."
   ]
  },
  {
   "cell_type": "markdown",
   "metadata": {
    "id": "w1t53n2KBZIy"
   },
   "source": [
    "The model AdaBoost gives the highest score. We will use it for the test data. "
   ]
  },
  {
   "cell_type": "markdown",
   "metadata": {
    "id": "xF9o6w_QKYx2"
   },
   "source": [
    "## Test data \n",
    "    "
   ]
  },
  {
   "cell_type": "code",
   "execution_count": 91,
   "metadata": {
    "id": "JwumfrEPKYx2"
   },
   "outputs": [],
   "source": [
    "#read test data\n",
    "df_test=pd.read_csv('test_auto.csv')"
   ]
  },
  {
   "cell_type": "code",
   "execution_count": 92,
   "metadata": {
    "id": "3c6ZGuJeKYx2"
   },
   "outputs": [],
   "source": [
    "#drop some columns\n",
    "df_test=df_test.drop(['TARGET_FLAG'],axis=1)\n",
    "df_test=df_test.drop(['TARGET_AMT'],axis=1)\n",
    "df_test=df_test.drop(['INDEX'],axis=1)"
   ]
  },
  {
   "cell_type": "code",
   "execution_count": 93,
   "metadata": {
    "id": "kxcJYarSKYx2"
   },
   "outputs": [],
   "source": [
    "# preprocessing function\n",
    "def preprocess(df_train):\n",
    "    \n",
    "    df_train['INCOME']=pd.to_numeric(df_train['INCOME'].replace('[^0-9\\.-]','',regex= True))\n",
    "    df_train['HOME_VAL']=pd.to_numeric(df_train['HOME_VAL'].replace('[^0-9\\.-]','',regex= True))\n",
    "    df_train['BLUEBOOK']=pd.to_numeric(df_train['BLUEBOOK'].replace('[^0-9\\.-]','',regex= True))\n",
    "    df_train['OLDCLAIM']=pd.to_numeric(df_train['OLDCLAIM'].replace('[^0-9\\.-]','',regex= True))\n",
    "    \n",
    "    df_train[df_train['CAR_AGE'] < 0] = 0\n",
    "    \n",
    "    df_train=df_train.drop(df_train[df_train['EDUCATION']==0].index)\n",
    "       \n",
    "    df_train['JOB'] = df_train['JOB'].fillna('unknown')\n",
    "    df_train['AGE']=df_train['AGE'].fillna(df_train['AGE'].mean())\n",
    "    df_train['INCOME']=df_train['INCOME'].fillna(df_train['INCOME'].median())\n",
    "    df_train['CAR_AGE']=df_train['CAR_AGE'].fillna(df_train['CAR_AGE'].mean())\n",
    "    df_train['HOME_VAL']=df_train['HOME_VAL'].fillna(df_train['HOME_VAL'].median())\n",
    "    df_train['YOJ']=df_train['YOJ'].fillna(df_train['YOJ'].mean())\n",
    "    \n",
    "    \n",
    "    \n",
    "    return(df_train)\n",
    "  "
   ]
  },
  {
   "cell_type": "code",
   "execution_count": 94,
   "metadata": {
    "id": "hfeSZU52KYx3"
   },
   "outputs": [],
   "source": [
    "X_test = preprocess(df_test)"
   ]
  },
  {
   "cell_type": "code",
   "execution_count": 95,
   "metadata": {
    "id": "vmKO7A5VBZI0",
    "outputId": "80d9e174-5a44-4233-b045-6994f962a9f3"
   },
   "outputs": [
    {
     "data": {
      "text/plain": [
       "(2141, 23)"
      ]
     },
     "execution_count": 95,
     "metadata": {},
     "output_type": "execute_result"
    }
   ],
   "source": [
    "X_test.shape"
   ]
  },
  {
   "cell_type": "code",
   "execution_count": 96,
   "metadata": {
    "id": "g63J18eQBZI1"
   },
   "outputs": [],
   "source": [
    "#apply best model found in trainning phase\n",
    "model = adb_model"
   ]
  },
  {
   "cell_type": "code",
   "execution_count": 97,
   "metadata": {
    "colab": {
     "base_uri": "https://localhost:8080/"
    },
    "id": "1uepaujQKYx4",
    "outputId": "e435d515-7a68-4b22-aa4a-2f01e78c9e6a"
   },
   "outputs": [
    {
     "data": {
      "text/plain": [
       "AdaBoostClassifier()"
      ]
     },
     "execution_count": 97,
     "metadata": {},
     "output_type": "execute_result"
    }
   ],
   "source": [
    "X_train_processed = preprocessor.fit_transform(X)\n",
    "model.fit(X_train_processed,y)"
   ]
  },
  {
   "cell_type": "code",
   "execution_count": 98,
   "metadata": {
    "id": "70AaC8uAKYx4"
   },
   "outputs": [],
   "source": [
    "X_test_processed = preprocessor.transform(X_test)"
   ]
  },
  {
   "cell_type": "code",
   "execution_count": 99,
   "metadata": {
    "id": "Ge2G-Y0mvQp8"
   },
   "outputs": [],
   "source": [
    "#find the prediction\n",
    "pred = model.predict(X_test_processed)"
   ]
  },
  {
   "cell_type": "code",
   "execution_count": 100,
   "metadata": {
    "id": "VzhnWvmJBZI2",
    "outputId": "246b4f70-4fe5-455d-dc91-87c84d6bb85f"
   },
   "outputs": [
    {
     "data": {
      "text/plain": [
       "398"
      ]
     },
     "execution_count": 100,
     "metadata": {},
     "output_type": "execute_result"
    }
   ],
   "source": [
    "pred.sum()"
   ]
  },
  {
   "cell_type": "code",
   "execution_count": 101,
   "metadata": {
    "id": "inA_u49gvUw9"
   },
   "outputs": [],
   "source": [
    "X_test['TARGET_FLAG'] = pred"
   ]
  },
  {
   "cell_type": "code",
   "execution_count": 102,
   "metadata": {
    "id": "jBmSb1ZIBZI2",
    "outputId": "d39d4eac-1e5a-4c64-b6f9-93bb8ea5b9b3"
   },
   "outputs": [
    {
     "data": {
      "text/html": [
       "<div>\n",
       "<style scoped>\n",
       "    .dataframe tbody tr th:only-of-type {\n",
       "        vertical-align: middle;\n",
       "    }\n",
       "\n",
       "    .dataframe tbody tr th {\n",
       "        vertical-align: top;\n",
       "    }\n",
       "\n",
       "    .dataframe thead th {\n",
       "        text-align: right;\n",
       "    }\n",
       "</style>\n",
       "<table border=\"1\" class=\"dataframe\">\n",
       "  <thead>\n",
       "    <tr style=\"text-align: right;\">\n",
       "      <th></th>\n",
       "      <th>KIDSDRIV</th>\n",
       "      <th>AGE</th>\n",
       "      <th>HOMEKIDS</th>\n",
       "      <th>YOJ</th>\n",
       "      <th>INCOME</th>\n",
       "      <th>PARENT1</th>\n",
       "      <th>HOME_VAL</th>\n",
       "      <th>MSTATUS</th>\n",
       "      <th>SEX</th>\n",
       "      <th>EDUCATION</th>\n",
       "      <th>JOB</th>\n",
       "      <th>TRAVTIME</th>\n",
       "      <th>CAR_USE</th>\n",
       "      <th>BLUEBOOK</th>\n",
       "      <th>TIF</th>\n",
       "      <th>CAR_TYPE</th>\n",
       "      <th>RED_CAR</th>\n",
       "      <th>OLDCLAIM</th>\n",
       "      <th>CLM_FREQ</th>\n",
       "      <th>REVOKED</th>\n",
       "      <th>MVR_PTS</th>\n",
       "      <th>CAR_AGE</th>\n",
       "      <th>URBANICITY</th>\n",
       "      <th>TARGET_FLAG</th>\n",
       "    </tr>\n",
       "  </thead>\n",
       "  <tbody>\n",
       "    <tr>\n",
       "      <th>0</th>\n",
       "      <td>0</td>\n",
       "      <td>48.0</td>\n",
       "      <td>0</td>\n",
       "      <td>11.000000</td>\n",
       "      <td>52881.0</td>\n",
       "      <td>No</td>\n",
       "      <td>0.0</td>\n",
       "      <td>z_No</td>\n",
       "      <td>M</td>\n",
       "      <td>Bachelors</td>\n",
       "      <td>Manager</td>\n",
       "      <td>26</td>\n",
       "      <td>Private</td>\n",
       "      <td>21970</td>\n",
       "      <td>1</td>\n",
       "      <td>Van</td>\n",
       "      <td>yes</td>\n",
       "      <td>0</td>\n",
       "      <td>0</td>\n",
       "      <td>No</td>\n",
       "      <td>2</td>\n",
       "      <td>10.0</td>\n",
       "      <td>Highly Urban/ Urban</td>\n",
       "      <td>0</td>\n",
       "    </tr>\n",
       "    <tr>\n",
       "      <th>1</th>\n",
       "      <td>1</td>\n",
       "      <td>40.0</td>\n",
       "      <td>1</td>\n",
       "      <td>11.000000</td>\n",
       "      <td>50815.0</td>\n",
       "      <td>Yes</td>\n",
       "      <td>0.0</td>\n",
       "      <td>z_No</td>\n",
       "      <td>M</td>\n",
       "      <td>z_High School</td>\n",
       "      <td>Manager</td>\n",
       "      <td>21</td>\n",
       "      <td>Private</td>\n",
       "      <td>18930</td>\n",
       "      <td>6</td>\n",
       "      <td>Minivan</td>\n",
       "      <td>no</td>\n",
       "      <td>3295</td>\n",
       "      <td>1</td>\n",
       "      <td>No</td>\n",
       "      <td>2</td>\n",
       "      <td>1.0</td>\n",
       "      <td>Highly Urban/ Urban</td>\n",
       "      <td>0</td>\n",
       "    </tr>\n",
       "    <tr>\n",
       "      <th>2</th>\n",
       "      <td>0</td>\n",
       "      <td>44.0</td>\n",
       "      <td>2</td>\n",
       "      <td>12.000000</td>\n",
       "      <td>43486.0</td>\n",
       "      <td>Yes</td>\n",
       "      <td>0.0</td>\n",
       "      <td>z_No</td>\n",
       "      <td>z_F</td>\n",
       "      <td>z_High School</td>\n",
       "      <td>z_Blue Collar</td>\n",
       "      <td>30</td>\n",
       "      <td>Commercial</td>\n",
       "      <td>5900</td>\n",
       "      <td>10</td>\n",
       "      <td>z_SUV</td>\n",
       "      <td>no</td>\n",
       "      <td>0</td>\n",
       "      <td>0</td>\n",
       "      <td>No</td>\n",
       "      <td>0</td>\n",
       "      <td>10.0</td>\n",
       "      <td>z_Highly Rural/ Rural</td>\n",
       "      <td>0</td>\n",
       "    </tr>\n",
       "    <tr>\n",
       "      <th>3</th>\n",
       "      <td>0</td>\n",
       "      <td>35.0</td>\n",
       "      <td>2</td>\n",
       "      <td>10.379091</td>\n",
       "      <td>21204.0</td>\n",
       "      <td>Yes</td>\n",
       "      <td>0.0</td>\n",
       "      <td>z_No</td>\n",
       "      <td>M</td>\n",
       "      <td>z_High School</td>\n",
       "      <td>Clerical</td>\n",
       "      <td>74</td>\n",
       "      <td>Private</td>\n",
       "      <td>9230</td>\n",
       "      <td>6</td>\n",
       "      <td>Pickup</td>\n",
       "      <td>no</td>\n",
       "      <td>0</td>\n",
       "      <td>0</td>\n",
       "      <td>Yes</td>\n",
       "      <td>0</td>\n",
       "      <td>4.0</td>\n",
       "      <td>z_Highly Rural/ Rural</td>\n",
       "      <td>0</td>\n",
       "    </tr>\n",
       "    <tr>\n",
       "      <th>4</th>\n",
       "      <td>0</td>\n",
       "      <td>59.0</td>\n",
       "      <td>0</td>\n",
       "      <td>12.000000</td>\n",
       "      <td>87460.0</td>\n",
       "      <td>No</td>\n",
       "      <td>0.0</td>\n",
       "      <td>z_No</td>\n",
       "      <td>M</td>\n",
       "      <td>z_High School</td>\n",
       "      <td>Manager</td>\n",
       "      <td>45</td>\n",
       "      <td>Private</td>\n",
       "      <td>15420</td>\n",
       "      <td>1</td>\n",
       "      <td>Minivan</td>\n",
       "      <td>yes</td>\n",
       "      <td>44857</td>\n",
       "      <td>2</td>\n",
       "      <td>No</td>\n",
       "      <td>4</td>\n",
       "      <td>1.0</td>\n",
       "      <td>Highly Urban/ Urban</td>\n",
       "      <td>0</td>\n",
       "    </tr>\n",
       "  </tbody>\n",
       "</table>\n",
       "</div>"
      ],
      "text/plain": [
       "   KIDSDRIV   AGE  HOMEKIDS        YOJ   INCOME PARENT1  HOME_VAL MSTATUS  \\\n",
       "0         0  48.0         0  11.000000  52881.0      No       0.0    z_No   \n",
       "1         1  40.0         1  11.000000  50815.0     Yes       0.0    z_No   \n",
       "2         0  44.0         2  12.000000  43486.0     Yes       0.0    z_No   \n",
       "3         0  35.0         2  10.379091  21204.0     Yes       0.0    z_No   \n",
       "4         0  59.0         0  12.000000  87460.0      No       0.0    z_No   \n",
       "\n",
       "   SEX      EDUCATION            JOB  TRAVTIME     CAR_USE  BLUEBOOK  TIF  \\\n",
       "0    M      Bachelors        Manager        26     Private     21970    1   \n",
       "1    M  z_High School        Manager        21     Private     18930    6   \n",
       "2  z_F  z_High School  z_Blue Collar        30  Commercial      5900   10   \n",
       "3    M  z_High School       Clerical        74     Private      9230    6   \n",
       "4    M  z_High School        Manager        45     Private     15420    1   \n",
       "\n",
       "  CAR_TYPE RED_CAR  OLDCLAIM  CLM_FREQ REVOKED  MVR_PTS  CAR_AGE  \\\n",
       "0      Van     yes         0         0      No        2     10.0   \n",
       "1  Minivan      no      3295         1      No        2      1.0   \n",
       "2    z_SUV      no         0         0      No        0     10.0   \n",
       "3   Pickup      no         0         0     Yes        0      4.0   \n",
       "4  Minivan     yes     44857         2      No        4      1.0   \n",
       "\n",
       "              URBANICITY  TARGET_FLAG  \n",
       "0    Highly Urban/ Urban            0  \n",
       "1    Highly Urban/ Urban            0  \n",
       "2  z_Highly Rural/ Rural            0  \n",
       "3  z_Highly Rural/ Rural            0  \n",
       "4    Highly Urban/ Urban            0  "
      ]
     },
     "execution_count": 102,
     "metadata": {},
     "output_type": "execute_result"
    }
   ],
   "source": [
    "X_test.head()"
   ]
  },
  {
   "cell_type": "code",
   "execution_count": 103,
   "metadata": {},
   "outputs": [
    {
     "data": {
      "text/plain": [
       "(array([1743.,    0.,    0.,    0.,    0.,    0.,    0.,    0.,    0.,\n",
       "         398.]),\n",
       " array([0. , 0.1, 0.2, 0.3, 0.4, 0.5, 0.6, 0.7, 0.8, 0.9, 1. ]),\n",
       " <a list of 10 Patch objects>)"
      ]
     },
     "execution_count": 103,
     "metadata": {},
     "output_type": "execute_result"
    },
    {
     "data": {
      "image/png": "[encoded data removed]",
      "text/plain": [
       "<Figure size 432x288 with 1 Axes>"
      ]
     },
     "metadata": {
      "needs_background": "light"
     },
     "output_type": "display_data"
    }
   ],
   "source": [
    "plt.hist(pred)"
   ]
  },
  {
   "cell_type": "code",
   "execution_count": 104,
   "metadata": {
    "id": "hgB3aWmTveiO"
   },
   "outputs": [],
   "source": [
    "#generate csv file of predictions\n",
    "X_test.to_csv('test_set_with_predictions.csv')"
   ]
  },
  {
   "cell_type": "code",
   "execution_count": null,
   "metadata": {
    "id": "d-Fh4mj-BZI2"
   },
   "outputs": [],
   "source": []
  }
 ],
 "metadata": {
  "colab": {
   "collapsed_sections": [],
   "name": "auto_insurance_Kaoutar.ipynb",
   "provenance": []
  },
  "kernelspec": {
   "display_name": "Python 3",
   "language": "python",
   "name": "python3"
  },
  "language_info": {
   "codemirror_mode": {
    "name": "ipython",
    "version": 3
   },
   "file_extension": ".py",
   "mimetype": "text/x-python",
   "name": "python",
   "nbconvert_exporter": "python",
   "pygments_lexer": "ipython3",
   "version": "3.8.0"
  }
 },
 "nbformat": 4,
 "nbformat_minor": 1
}
